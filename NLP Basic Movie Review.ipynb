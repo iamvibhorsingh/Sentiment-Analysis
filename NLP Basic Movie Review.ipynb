{
 "cells": [
  {
   "cell_type": "code",
   "execution_count": 1,
   "metadata": {
    "collapsed": true
   },
   "outputs": [],
   "source": [
    "from nltk.tokenize import sent_tokenize, word_tokenize"
   ]
  },
  {
   "cell_type": "code",
   "execution_count": 2,
   "metadata": {
    "collapsed": true
   },
   "outputs": [],
   "source": [
    "SAMPLE_TEXT = \"This is an example text? Let's see how it works.\""
   ]
  },
  {
   "cell_type": "code",
   "execution_count": 3,
   "metadata": {},
   "outputs": [
    {
     "data": {
      "text/plain": [
       "['This is an example text?', \"Let's see how it works.\"]"
      ]
     },
     "execution_count": 3,
     "metadata": {},
     "output_type": "execute_result"
    }
   ],
   "source": [
    "sent_tokenize(SAMPLE_TEXT)"
   ]
  },
  {
   "cell_type": "code",
   "execution_count": 4,
   "metadata": {
    "collapsed": true
   },
   "outputs": [],
   "source": [
    "words = word_tokenize(SAMPLE_TEXT)"
   ]
  },
  {
   "cell_type": "code",
   "execution_count": 5,
   "metadata": {
    "collapsed": true
   },
   "outputs": [],
   "source": [
    "from nltk.corpus import stopwords"
   ]
  },
  {
   "cell_type": "code",
   "execution_count": 6,
   "metadata": {
    "collapsed": true
   },
   "outputs": [],
   "source": [
    "stops = set(stopwords.words('english'))"
   ]
  },
  {
   "cell_type": "code",
   "execution_count": 7,
   "metadata": {},
   "outputs": [
    {
     "data": {
      "text/plain": [
       "{'a',\n",
       " 'about',\n",
       " 'above',\n",
       " 'after',\n",
       " 'again',\n",
       " 'against',\n",
       " 'ain',\n",
       " 'all',\n",
       " 'am',\n",
       " 'an',\n",
       " 'and',\n",
       " 'any',\n",
       " 'are',\n",
       " 'aren',\n",
       " 'as',\n",
       " 'at',\n",
       " 'be',\n",
       " 'because',\n",
       " 'been',\n",
       " 'before',\n",
       " 'being',\n",
       " 'below',\n",
       " 'between',\n",
       " 'both',\n",
       " 'but',\n",
       " 'by',\n",
       " 'can',\n",
       " 'couldn',\n",
       " 'd',\n",
       " 'did',\n",
       " 'didn',\n",
       " 'do',\n",
       " 'does',\n",
       " 'doesn',\n",
       " 'doing',\n",
       " 'don',\n",
       " 'down',\n",
       " 'during',\n",
       " 'each',\n",
       " 'few',\n",
       " 'for',\n",
       " 'from',\n",
       " 'further',\n",
       " 'had',\n",
       " 'hadn',\n",
       " 'has',\n",
       " 'hasn',\n",
       " 'have',\n",
       " 'haven',\n",
       " 'having',\n",
       " 'he',\n",
       " 'her',\n",
       " 'here',\n",
       " 'hers',\n",
       " 'herself',\n",
       " 'him',\n",
       " 'himself',\n",
       " 'his',\n",
       " 'how',\n",
       " 'i',\n",
       " 'if',\n",
       " 'in',\n",
       " 'into',\n",
       " 'is',\n",
       " 'isn',\n",
       " 'it',\n",
       " 'its',\n",
       " 'itself',\n",
       " 'just',\n",
       " 'll',\n",
       " 'm',\n",
       " 'ma',\n",
       " 'me',\n",
       " 'mightn',\n",
       " 'more',\n",
       " 'most',\n",
       " 'mustn',\n",
       " 'my',\n",
       " 'myself',\n",
       " 'needn',\n",
       " 'no',\n",
       " 'nor',\n",
       " 'not',\n",
       " 'now',\n",
       " 'o',\n",
       " 'of',\n",
       " 'off',\n",
       " 'on',\n",
       " 'once',\n",
       " 'only',\n",
       " 'or',\n",
       " 'other',\n",
       " 'our',\n",
       " 'ours',\n",
       " 'ourselves',\n",
       " 'out',\n",
       " 'over',\n",
       " 'own',\n",
       " 're',\n",
       " 's',\n",
       " 'same',\n",
       " 'shan',\n",
       " 'she',\n",
       " 'should',\n",
       " 'shouldn',\n",
       " 'so',\n",
       " 'some',\n",
       " 'such',\n",
       " 't',\n",
       " 'than',\n",
       " 'that',\n",
       " 'the',\n",
       " 'their',\n",
       " 'theirs',\n",
       " 'them',\n",
       " 'themselves',\n",
       " 'then',\n",
       " 'there',\n",
       " 'these',\n",
       " 'they',\n",
       " 'this',\n",
       " 'those',\n",
       " 'through',\n",
       " 'to',\n",
       " 'too',\n",
       " 'under',\n",
       " 'until',\n",
       " 'up',\n",
       " 've',\n",
       " 'very',\n",
       " 'was',\n",
       " 'wasn',\n",
       " 'we',\n",
       " 'were',\n",
       " 'weren',\n",
       " 'what',\n",
       " 'when',\n",
       " 'where',\n",
       " 'which',\n",
       " 'while',\n",
       " 'who',\n",
       " 'whom',\n",
       " 'why',\n",
       " 'will',\n",
       " 'with',\n",
       " 'won',\n",
       " 'wouldn',\n",
       " 'y',\n",
       " 'you',\n",
       " 'your',\n",
       " 'yours',\n",
       " 'yourself',\n",
       " 'yourselves'}"
      ]
     },
     "execution_count": 7,
     "metadata": {},
     "output_type": "execute_result"
    }
   ],
   "source": [
    "stops"
   ]
  },
  {
   "cell_type": "code",
   "execution_count": 8,
   "metadata": {
    "collapsed": true
   },
   "outputs": [],
   "source": [
    "lower_text = SAMPLE_TEXT.lower()\n",
    "lower_text = word_tokenize(lower_text)"
   ]
  },
  {
   "cell_type": "code",
   "execution_count": 9,
   "metadata": {
    "collapsed": true
   },
   "outputs": [],
   "source": [
    "clean_wrods = [w for w in lower_text if not w in stops]"
   ]
  },
  {
   "cell_type": "code",
   "execution_count": 10,
   "metadata": {},
   "outputs": [
    {
     "data": {
      "text/plain": [
       "['example', 'text', '?', 'let', \"'s\", 'see', 'works', '.']"
      ]
     },
     "execution_count": 10,
     "metadata": {},
     "output_type": "execute_result"
    }
   ],
   "source": [
    "clean_wrods"
   ]
  },
  {
   "cell_type": "markdown",
   "metadata": {},
   "source": [
    "stem_words"
   ]
  },
  {
   "cell_type": "code",
   "execution_count": 11,
   "metadata": {},
   "outputs": [
    {
     "name": "stdout",
     "output_type": "stream",
     "text": [
      "play\n",
      "play\n",
      "play\n",
      "player\n"
     ]
    }
   ],
   "source": [
    "stem_words = [\"play\", \"played\", \"playing\", \"player\"]\n",
    "from nltk.stem import  PorterStemmer\n",
    "ps = PorterStemmer()\n",
    "for w in stem_words:\n",
    "    print(ps.stem(w))"
   ]
  },
  {
   "cell_type": "code",
   "execution_count": 12,
   "metadata": {},
   "outputs": [
    {
     "name": "stdout",
     "output_type": "stream",
     "text": [
      "imperfect\n",
      "perfect\n"
     ]
    }
   ],
   "source": [
    "words = [\"imperfect\", \"perfect\"]\n",
    "ps = PorterStemmer()\n",
    "for w in words:\n",
    "    print(ps.stem(w))"
   ]
  },
  {
   "cell_type": "code",
   "execution_count": 13,
   "metadata": {
    "collapsed": true
   },
   "outputs": [],
   "source": [
    "from nltk import pos_tag\n",
    "from nltk.corpus import state_union"
   ]
  },
  {
   "cell_type": "code",
   "execution_count": 14,
   "metadata": {
    "collapsed": true
   },
   "outputs": [],
   "source": [
    "text = state_union.raw(\"2006-GWBush.txt\")"
   ]
  },
  {
   "cell_type": "code",
   "execution_count": 15,
   "metadata": {},
   "outputs": [
    {
     "data": {
      "text/plain": [
       "'PRESIDENT GEORGE W. BUSH\\'S ADDRESS BEFORE A JOINT SESSION OF THE CONGRESS ON THE STATE OF THE UNION\\n \\nJanuary 31, 2006\\n\\nTHE PRESIDENT: Thank you all. Mr. Speaker, Vice President Cheney, members of Congress, members of the Supreme Court and diplomatic corps, distinguished guests, and fellow citizens: Today our nation lost a beloved, graceful, courageous woman who called America to its founding ideals and carried on a noble dream. Tonight we are comforted by the hope of a glad reunion with the husband who was taken so long ago, and we are grateful for the good life of Coretta Scott King. (Applause.)\\n\\nPresident George W. Bush reacts to applause during his State of the Union Address at the Capitol, Tuesday, Jan. 31, 2006. White House photo by Eric DraperEvery time I\\'m invited to this rostrum, I\\'m humbled by the privilege, and mindful of the history we\\'ve seen together. We have gathered under this Capitol dome in moments of national mourning and national achievement. We have served America through one of the most consequential periods of our history -- and it has been my honor to serve with you.\\n\\nIn a system of two parties, two chambers, and two elected branches, there will always be differences and debate. But even tough debates can be conducted in a civil tone, and our differences cannot be allowed to harden into anger. To confront the great issues before us, we must act in a spirit of goodwill and respect for one another -- and I will do my part. Tonight the state of our Union is strong -- and together we will make it stronger. (Applause.)\\n\\nIn this decisive year, you and I will make choices that determine both the future and the character of our country. We will choose to act confidently in pursuing the enemies of freedom -- or retreat from our duties in the hope of an easier life. We will choose to build our prosperity by leading the world economy -- or shut ourselves off from trade and opportunity. In a complex and challenging time, the road of isolationism and protectionism may seem broad and inviting -- yet it ends in danger and decline. The only way to protect our people, the only way to secure the peace, the only way to control our destiny is by our leadership -- so the United States of America will continue to lead. (Applause.)\\n\\nAbroad, our nation is committed to an historic, long-term goal -- we seek the end of tyranny in our world. Some dismiss that goal as misguided idealism. In reality, the future security of America depends on it. On September the 11th, 2001, we found that problems originating in a failed and oppressive state 7,000 miles away could bring murder and destruction to our country. Dictatorships shelter terrorists, and feed resentment and radicalism, and seek weapons of mass destruction. Democracies replace resentment with hope, respect the rights of their citizens and their neighbors, and join the fight against terror. Every step toward freedom in the world makes our country safer -- so we will act boldly in freedom\\'s cause. (Applause.)\\n\\nFar from being a hopeless dream, the advance of freedom is the great story of our time. In 1945, there were about two dozen lonely democracies in the world. Today, there are 122. And we\\'re writing a new chapter in the story of self-government -- with women lining up to vote in Afghanistan, and millions of Iraqis marking their liberty with purple ink, and men and women from Lebanon to Egypt debating the rights of individuals and the necessity of freedom. At the start of 2006, more than half the people of our world live in democratic nations. And we do not forget the other half -- in places like Syria and Burma, Zimbabwe, North Korea, and Iran -- because the demands of justice, and the peace of this world, require their freedom, as well. (Applause.)\\n\\nPresident George W. Bush delivers his State of the Union Address at the Capitol, Tuesday, Jan. 31, 2006. White House photo by Eric Draper No one can deny the success of freedom, but some men rage and fight against it. And one of the main sources of reaction and opposition is radical Islam -- the perversion by a few of a noble faith into an ideology of terror and death. Terrorists like bin Laden are serious about mass murder -- and all of us must take their declared intentions seriously. They seek to impose a heartless system of totalitarian control throughout the Middle East, and arm themselves with weapons of mass murder.\\n\\nTheir aim is to seize power in Iraq, and use it as a safe haven to launch attacks against America and the world. Lacking the military strength to challenge us directly, the terrorists have chosen the weapon of fear. When they murder children at a school in Beslan, or blow up commuters in London, or behead a bound captive, the terrorists hope these horrors will break our will, allowing the violent to inherit the Earth. But they have miscalculated: We love our freedom, and we will fight to keep it. (Applause.)\\n\\nIn a time of testing, we cannot find security by abandoning our commitments and retreating within our borders. If we were to leave these vicious attackers alone, they would not leave us alone. They would simply move the battlefield to our own shores. There is no peace in retreat. And there is no honor in retreat. By allowing radical Islam to work its will -- by leaving an assaulted world to fend for itself -- we would signal to all that we no longer believe in our own ideals, or even in our own courage. But our enemies and our friends can be certain: The United States will not retreat from the world, and we will never surrender to evil. (Applause.)\\n\\nAmerica rejects the false comfort of isolationism. We are the nation that saved liberty in Europe, and liberated death camps, and helped raise up democracies, and faced down an evil empire. Once again, we accept the call of history to deliver the oppressed and move this world toward peace. We remain on the offensive against terror networks. We have killed or captured many of their leaders -- and for the others, their day will come.\\n\\nPresident George W. Bush greets members of Congress after his State of the Union Address at the Capitol, Tuesday, Jan. 31, 2006. White House photo by Eric Draper We remain on the offensive in Afghanistan, where a fine President and a National Assembly are fighting terror while building the institutions of a new democracy. We\\'re on the offensive in Iraq, with a clear plan for victory. First, we\\'re helping Iraqis build an inclusive government, so that old resentments will be eased and the insurgency will be marginalized.\\n\\nSecond, we\\'re continuing reconstruction efforts, and helping the Iraqi government to fight corruption and build a modern economy, so all Iraqis can experience the benefits of freedom. And, third, we\\'re striking terrorist targets while we train Iraqi forces that are increasingly capable of defeating the enemy. Iraqis are showing their courage every day, and we are proud to be their allies in the cause of freedom. (Applause.)\\n\\nOur work in Iraq is difficult because our enemy is brutal. But that brutality has not stopped the dramatic progress of a new democracy. In less than three years, the nation has gone from dictatorship to liberation, to sovereignty, to a constitution, to national elections. At the same time, our coalition has been relentless in shutting off terrorist infiltration, clearing out insurgent strongholds, and turning over territory to Iraqi security forces. I am confident in our plan for victory; I am confident in the will of the Iraqi people; I am confident in the skill and spirit of our military. Fellow citizens, we are in this fight to win, and we are winning. (Applause.)\\n\\nThe road of victory is the road that will take our troops home. As we make progress on the ground, and Iraqi forces increasingly take the lead, we should be able to further decrease our troop levels -- but those decisions will be made by our military commanders, not by politicians in Washington, D.C. (Applause.)\\n\\nOur coalition has learned from our experience in Iraq. We\\'ve adjusted our military tactics and changed our approach to reconstruction. Along the way, we have benefitted from responsible criticism and counsel offered by members of Congress of both parties. In the coming year, I will continue to reach out and seek your good advice. Yet, there is a difference between responsible criticism that aims for success, and defeatism that refuses to acknowledge anything but failure. (Applause.) Hindsight alone is not wisdom, and second-guessing is not a strategy. (Applause.)\\n\\nWith so much in the balance, those of us in public office have a duty to speak with candor. A sudden withdrawal of our forces from Iraq would abandon our Iraqi allies to death and prison, would put men like bin Laden and Zarqawi in charge of a strategic country, and show that a pledge from America means little. Members of Congress, however we feel about the decisions and debates of the past, our nation has only one option: We must keep our word, defeat our enemies, and stand behind the American military in this vital mission. (Applause.)\\n\\nLaura Bush is applauded as she is introduced Tuesday evening, Jan. 31, 2006 during the State of the Union Address at United States Capitol in Washington. White House photo by Eric Draper Our men and women in uniform are making sacrifices -- and showing a sense of duty stronger than all fear. They know what it\\'s like to fight house to house in a maze of streets, to wear heavy gear in the desert heat, to see a comrade killed by a roadside bomb. And those who know the costs also know the stakes. Marine Staff Sergeant Dan Clay was killed last month fighting in Fallujah. He left behind a letter to his family, but his words could just as well be addressed to every American. Here is what Dan wrote: \"I know what honor is. ... It has been an honor to protect and serve all of you. I faced death with the secure knowledge that you would not have to.... Never falter! Don\\'t hesitate to honor and support those of us who have the honor of protecting that which is worth protecting.\"\\n\\nStaff Sergeant Dan Clay\\'s wife, Lisa, and his mom and dad, Sara Jo and Bud, are with us this evening. Welcome. (Applause.)\\n\\nOur nation is grateful to the fallen, who live in the memory of our country. We\\'re grateful to all who volunteer to wear our nation\\'s uniform -- and as we honor our brave troops, let us never forget the sacrifices of America\\'s military families. (Applause.)\\n\\nOur offensive against terror involves more than military action. Ultimately, the only way to defeat the terrorists is to defeat their dark vision of hatred and fear by offering the hopeful alternative of political freedom and peaceful change. So the United States of America supports democratic reform across the broader Middle East. Elections are vital, but they are only the beginning. Raising up a democracy requires the rule of law, and protection of minorities, and strong, accountable institutions that last longer than a single vote.\\n\\nThe great people of Egypt have voted in a multi-party presidential election -- and now their government should open paths of peaceful opposition that will reduce the appeal of radicalism. The Palestinian people have voted in elections. And now the leaders of Hamas must recognize Israel, disarm, reject terrorism, and work for lasting peace. (Applause.) Saudi Arabia has taken the first steps of reform -- now it can offer its people a better future by pressing forward with those efforts. Democracies in the Middle East will not look like our own, because they will reflect the traditions of their own citizens. Yet liberty is the future of every nation in the Middle East, because liberty is the right and hope of all humanity. (Applause.)\\n\\nPresident George W. Bush waves toward the upper visitors gallery of the House Chamber following his State of the Union remarks Tuesday, Jan. 31, 2006 at the United States Capitol. White House photo by Eric Draper The same is true of Iran, a nation now held hostage by a small clerical elite that is isolating and repressing its people. The regime in that country sponsors terrorists in the Palestinian territories and in Lebanon -- and that must come to an end. (Applause.) The Iranian government is defying the world with its nuclear ambitions, and the nations of the world must not permit the Iranian regime to gain nuclear weapons. (Applause.) America will continue to rally the world to confront these threats.\\n\\nTonight, let me speak directly to the citizens of Iran: America respects you, and we respect your country. We respect your right to choose your own future and win your own freedom. And our nation hopes one day to be the closest of friends with a free and democratic Iran. (Applause.)\\n\\nTo overcome dangers in our world, we must also take the offensive by encouraging economic progress, and fighting disease, and spreading hope in hopeless lands. Isolationism would not only tie our hands in fighting enemies, it would keep us from helping our friends in desperate need. We show compassion abroad because Americans believe in the God-given dignity and worth of a villager with HIV/AIDS, or an infant with malaria, or a refugee fleeing genocide, or a young girl sold into slavery. We also show compassion abroad because regions overwhelmed by poverty, corruption, and despair are sources of terrorism, and organized crime, and human trafficking, and the drug trade.\\n\\nIn recent years, you and I have taken unprecedented action to fight AIDS and malaria, expand the education of girls, and reward developing nations that are moving forward with economic and political reform. For people everywhere, the United States is a partner for a better life. Short-changing these efforts would increase the suffering and chaos of our world, undercut our long-term security, and dull the conscience of our country. I urge members of Congress to serve the interests of America by showing the compassion of America.\\n\\nOur country must also remain on the offensive against terrorism here at home. The enemy has not lost the desire or capability to attack us. Fortunately, this nation has superb professionals in law enforcement, intelligence, the military, and homeland security. These men and women are dedicating their lives, protecting us all, and they deserve our support and our thanks. (Applause.) They also deserve the same tools they already use to fight drug trafficking and organized crime -- so I ask you to reauthorize the Patriot Act. (Applause.)\\n\\nIt is said that prior to the attacks of September the 11th, our government failed to connect the dots of the conspiracy. We now know that two of the hijackers in the United States placed telephone calls to al Qaeda operatives overseas. But we did not know about their plans until it was too late. So to prevent another attack -- based on authority given to me by the Constitution and by statute -- I have authorized a terrorist surveillance program to aggressively pursue the international communications of suspected al Qaeda operatives and affiliates to and from America. Previous Presidents have used the same constitutional authority I have, and federal courts have approved the use of that authority. Appropriate members of Congress have been kept informed. The terrorist surveillance program has helped prevent terrorist attacks. It remains essential to the security of America. If there are people inside our country who are talking with al Qaeda, we want to know about it, because we will not sit back and wait to be hit again. (Applause.)\\n\\nIn all these areas -- from the disruption of terror networks, to victory in Iraq, to the spread of freedom and hope in troubled regions -- we need the support of our friends and allies. To draw that support, we must always be clear in our principles and willing to act. The only alternative to American leadership is a dramatically more dangerous and anxious world. Yet we also choose to lead because it is a privilege to serve the values that gave us birth. American leaders -- from Roosevelt to Truman to Kennedy to Reagan -- rejected isolation and retreat, because they knew that America is always more secure when freedom is on the march.\\n\\nOur own generation is in a long war against a determined enemy -- a war that will be fought by Presidents of both parties, who will need steady bipartisan support from the Congress. And tonight I ask for yours. Together, let us protect our country, support the men and women who defend us, and lead this world toward freedom. (Applause.)\\n\\nHere at home, America also has a great opportunity: We will build the prosperity of our country by strengthening our economic leadership in the world.\\n\\nOur economy is healthy and vigorous, and growing faster than other major industrialized nations. In the last two-and-a-half years, America has created 4.6 million new jobs -- more than Japan and the European Union combined. (Applause.) Even in the face of higher energy prices and natural disasters, the American people have turned in an economic performance that is the envy of the world.\\n\\nThe American economy is preeminent, but we cannot afford to be complacent. In a dynamic world economy, we are seeing new competitors, like China and India, and this creates uncertainty, which makes it easier to feed people\\'s fears. So we\\'re seeing some old temptations return. Protectionists want to escape competition, pretending that we can keep our high standard of living while walling off our economy. Others say that the government needs to take a larger role in directing the economy, centralizing more power in Washington and increasing taxes. We hear claims that immigrants are somehow bad for the economy -- even though this economy could not function without them. (Applause.) All these are forms of economic retreat, and they lead in the same direction -- toward a stagnant and second-rate economy.\\n\\nTonight I will set out a better path: an agenda for a nation that competes with confidence; an agenda that will raise standards of living and generate new jobs. Americans should not fear our economic future, because we intend to shape it.\\n\\nKeeping America competitive begins with keeping our economy growing. And our economy grows when Americans have more of their own money to spend, save, and invest. In the last five years, the tax relief you passed has left $880 billion in the hands of American workers, investors, small businesses, and families -- and they have used it to help produce more than four years of uninterrupted economic growth. (Applause.) Yet the tax relief is set to expire in the next few years. If we do nothing, American families will face a massive tax increase they do not expect and will not welcome. Because America needs more than a temporary expansion, we need more than temporary tax relief. I urge the Congress to act responsibly, and make the tax cuts permanent. (Applause.)\\n\\nKeeping America competitive requires us to be good stewards of tax dollars. Every year of my presidency, we\\'ve reduced the growth of non-security discretionary spending, and last year you passed bills that cut this spending. This year my budget will cut it again, and reduce or eliminate more than 140 programs that are performing poorly or not fulfilling essential priorities. By passing these reforms, we will save the American taxpayer another $14 billion next year, and stay on track to cut the deficit in half by 2009. (Applause.)\\n\\nI am pleased that members of Congress are working on earmark reform, because the federal budget has too many special interest projects. (Applause.) And we can tackle this problem together, if you pass the line-item veto. (Applause.)\\n\\nWe must also confront the larger challenge of mandatory spending, or entitlements. This year, the first of about 78 million baby boomers turn 60, including two of my Dad\\'s favorite people -- me and President Clinton. (Laughter.) This milestone is more than a personal crisis -- (laughter) -- it is a national challenge. The retirement of the baby boom generation will put unprecedented strains on the federal government. By 2030, spending for Social Security, Medicare and Medicaid alone will be almost 60 percent of the entire federal budget. And that will present future Congresses with impossible choices -- staggering tax increases, immense deficits, or deep cuts in every category of spending. Congress did not act last year on my proposal to save Social Security -- (applause) -- yet the rising cost of entitlements is a problem that is not going away. (Applause.) And every year we fail to act, the situation gets worse.\\n\\nSo tonight, I ask you to join me in creating a commission to examine the full impact of baby boom retirements on Social Security, Medicare, and Medicaid. This commission should include members of Congress of both parties, and offer bipartisan solutions. We need to put aside partisan politics and work together and get this problem solved. (Applause.)\\n\\nKeeping America competitive requires us to open more markets for all that Americans make and grow. One out of every five factory jobs in America is related to global trade, and we want people everywhere to buy American. With open markets and a level playing field, no one can out-produce or out-compete the American worker. (Applause.)\\n\\nKeeping America competitive requires an immigration system that upholds our laws, reflects our values, and serves the interests of our economy. Our nation needs orderly and secure borders. (Applause.) To meet this goal, we must have stronger immigration enforcement and border protection. (Applause.) And we must have a rational, humane guest worker program that rejects amnesty, allows temporary jobs for people who seek them legally, and reduces smuggling and crime at the border. (Applause.)\\n\\nKeeping America competitive requires affordable health care. (Applause.) Our government has a responsibility to provide health care for the poor and the elderly, and we are meeting that responsibility. (Applause.) For all Americans -- for all Americans, we must confront the rising cost of care, strengthen the doctor-patient relationship, and help people afford the insurance coverage they need. (Applause.)\\n\\nWe will make wider use of electronic records and other health information technology, to help control costs and reduce dangerous medical errors. We will strengthen health savings accounts -- making sure individuals and small business employees can buy insurance with the same advantages that people working for big businesses now get. (Applause.) We will do more to make this coverage portable, so workers can switch jobs without having to worry about losing their health insurance. (Applause.) And because lawsuits are driving many good doctors out of practice -- leaving women in nearly 1,500 American counties without a single OB/GYN -- I ask the Congress to pass medical liability reform this year. (Applause.)\\n\\nKeeping America competitive requires affordable energy. And here we have a serious problem: America is addicted to oil, which is often imported from unstable parts of the world. The best way to break this addiction is through technology. Since 2001, we have spent nearly $10 billion to develop cleaner, cheaper, and more reliable alternative energy sources -- and we are on the threshold of incredible advances.\\n\\nSo tonight, I announce the Advanced Energy Initiative -- a 22-percent increase in clean-energy research -- at the Department of Energy, to push for breakthroughs in two vital areas. To change how we power our homes and offices, we will invest more in zero-emission coal-fired plants, revolutionary solar and wind technologies, and clean, safe nuclear energy. (Applause.)\\n\\nWe must also change how we power our automobiles. We will increase our research in better batteries for hybrid and electric cars, and in pollution-free cars that run on hydrogen. We\\'ll also fund additional research in cutting-edge methods of producing ethanol, not just from corn, but from wood chips and stalks, or switch grass. Our goal is to make this new kind of ethanol practical and competitive within six years. (Applause.)\\n\\nBreakthroughs on this and other new technologies will help us reach another great goal: to replace more than 75 percent of our oil imports from the Middle East by 2025. (Applause.) By applying the talent and technology of America, this country can dramatically improve our environment, move beyond a petroleum-based economy, and make our dependence on Middle Eastern oil a thing of the past. (Applause.)\\n\\nAnd to keep America competitive, one commitment is necessary above all: We must continue to lead the world in human talent and creativity. Our greatest advantage in the world has always been our educated, hardworking, ambitious people -- and we\\'re going to keep that edge. Tonight I announce an American Competitiveness Initiative, to encourage innovation throughout our economy, and to give our nation\\'s children a firm grounding in math and science. (Applause.)\\n\\nFirst, I propose to double the federal commitment to the most critical basic research programs in the physical sciences over the next 10 years. This funding will support the work of America\\'s most creative minds as they explore promising areas such as nanotechnology, supercomputing, and alternative energy sources.\\n\\nSecond, I propose to make permanent the research and development tax credit -- (applause) -- to encourage bolder private-sector initiatives in technology. With more research in both the public and private sectors, we will improve our quality of life -- and ensure that America will lead the world in opportunity and innovation for decades to come. (Applause.)\\n\\nThird, we need to encourage children to take more math and science, and to make sure those courses are rigorous enough to compete with other nations. We\\'ve made a good start in the early grades with the No Child Left Behind Act, which is raising standards and lifting test scores across our country. Tonight I propose to train 70,000 high school teachers to lead advanced-placement courses in math and science, bring 30,000 math and science professionals to teach in classrooms, and give early help to students who struggle with math, so they have a better chance at good, high-wage jobs. If we ensure that America\\'s children succeed in life, they will ensure that America succeeds in the world. (Applause.)\\n\\nPreparing our nation to compete in the world is a goal that all of us can share. I urge you to support the American Competitiveness Initiative, and together we will show the world what the American people can achieve.\\n\\nAmerica is a great force for freedom and prosperity. Yet our greatness is not measured in power or luxuries, but by who we are and how we treat one another. So we strive to be a compassionate, decent, hopeful society.\\n\\nIn recent years, America has become a more hopeful nation. Violent crime rates have fallen to their lowest levels since the 1970s. Welfare cases have dropped by more than half over the past decade. Drug use among youth is down 19 percent since 2001. There are fewer abortions in America than at any point in the last three decades, and the number of children born to teenage mothers has been falling for a dozen years in a row. (Applause.)\\n\\nThese gains are evidence of a quiet transformation -- a revolution of conscience, in which a rising generation is finding that a life of personal responsibility is a life of fulfillment. Government has played a role. Wise policies, such as welfare reform and drug education and support for abstinence and adoption have made a difference in the character of our country. And everyone here tonight, Democrat and Republican, has a right to be proud of this record. (Applause.)\\n\\nYet many Americans, especially parents, still have deep concerns about the direction of our culture, and the health of our most basic institutions. They\\'re concerned about unethical conduct by public officials, and discouraged by activist courts that try to redefine marriage. They worry about children in our society who need direction and love, and about fellow citizens still displaced by natural disaster, and about suffering caused by treatable diseases.\\n\\nAs we look at these challenges, we must never give in to the belief that America is in decline, or that our culture is doomed to unravel. The American people know better than that. We have proven the pessimists wrong before -- and we will do it again. (Applause.)\\n\\nA hopeful society depends on courts that deliver equal justice under the law. The Supreme Court now has two superb new members -- new members on its bench: Chief Justice John Roberts and Justice Sam Alito. (Applause.) I thank the Senate for confirming both of them. I will continue to nominate men and women who understand that judges must be servants of the law, and not legislate from the bench. (Applause.)\\n\\nToday marks the official retirement of a very special American. For 24 years of faithful service to our nation, the United States is grateful to Justice Sandra Day O\\'Connor. (Applause.)\\n\\nA hopeful society has institutions of science and medicine that do not cut ethical corners, and that recognize the matchless value of every life. Tonight I ask you to pass legislation to prohibit the most egregious abuses of medical research: human cloning in all its forms, creating or implanting embryos for experiments, creating human-animal hybrids, and buying, selling, or patenting human embryos. Human life is a gift from our Creator -- and that gift should never be discarded, devalued or put up for sale. (Applause.)\\n\\nA hopeful society expects elected officials to uphold the public trust. (Applause.) Honorable people in both parties are working on reforms to strengthen the ethical standards of Washington -- I support your efforts. Each of us has made a pledge to be worthy of public responsibility -- and that is a pledge we must never forget, never dismiss, and never betray. (Applause.)\\n\\nAs we renew the promise of our institutions, let us also show the character of America in our compassion and care for one another.\\n\\nA hopeful society gives special attention to children who lack direction and love. Through the Helping America\\'s Youth Initiative, we are encouraging caring adults to get involved in the life of a child -- and this good work is being led by our First Lady, Laura Bush. (Applause.) This year we will add resources to encourage young people to stay in school, so more of America\\'s youth can raise their sights and achieve their dreams.\\n\\nA hopeful society comes to the aid of fellow citizens in times of suffering and emergency -- and stays at it until they\\'re back on their feet. So far the federal government has committed $85 billion to the people of the Gulf Coast and New Orleans. We\\'re removing debris and repairing highways and rebuilding stronger levees. We\\'re providing business loans and housing assistance. Yet as we meet these immediate needs, we must also address deeper challenges that existed before the storm arrived.\\n\\nIn New Orleans and in other places, many of our fellow citizens have felt excluded from the promise of our country. The answer is not only temporary relief, but schools that teach every child, and job skills that bring upward mobility, and more opportunities to own a home and start a business. As we recover from a disaster, let us also work for the day when all Americans are protected by justice, equal in hope, and rich in opportunity. (Applause.)\\n\\nA hopeful society acts boldly to fight diseases like HIV/AIDS, which can be prevented, and treated, and defeated. More than a million Americans live with HIV, and half of all AIDS cases occur among African Americans. I ask Congress to reform and reauthorize the Ryan White Act, and provide new funding to states, so we end the waiting lists for AIDS medicines in America. (Applause.) We will also lead a nationwide effort, working closely with African American churches and faith-based groups, to deliver rapid HIV tests to millions, end the stigma of AIDS, and come closer to the day when there are no new infections in America. (Applause.)\\n\\nFellow citizens, we\\'ve been called to leadership in a period of consequence. We\\'ve entered a great ideological conflict we did nothing to invite. We see great changes in science and commerce that will influence all our lives. Sometimes it can seem that history is turning in a wide arc, toward an unknown shore. Yet the destination of history is determined by human action, and every great movement of history comes to a point of choosing.\\n\\nLincoln could have accepted peace at the cost of disunity and continued slavery. Martin Luther King could have stopped at Birmingham or at Selma, and achieved only half a victory over segregation. The United States could have accepted the permanent division of Europe, and been complicit in the oppression of others. Today, having come far in our own historical journey, we must decide: Will we turn back, or finish well?\\n\\nBefore history is written down in books, it is written in courage. Like Americans before us, we will show that courage and we will finish well. We will lead freedom\\'s advance. We will compete and excel in the global economy. We will renew the defining moral commitments of this land. And so we move forward -- optimistic about our country, faithful to its cause, and confident of the victories to come.\\n\\nMay God bless America. (Applause.)\\n'"
      ]
     },
     "execution_count": 15,
     "metadata": {},
     "output_type": "execute_result"
    }
   ],
   "source": [
    "text"
   ]
  },
  {
   "cell_type": "code",
   "execution_count": 16,
   "metadata": {
    "collapsed": true
   },
   "outputs": [],
   "source": [
    "pos = pos_tag(word_tokenize(text))"
   ]
  },
  {
   "cell_type": "code",
   "execution_count": 17,
   "metadata": {},
   "outputs": [
    {
     "data": {
      "text/plain": [
       "[('GEORGE', 'NNP'),\n",
       " ('W.', 'NNP'),\n",
       " ('BUSH', 'NNP'),\n",
       " (\"'S\", 'POS'),\n",
       " ('ADDRESS', 'NNP'),\n",
       " ('BEFORE', 'IN'),\n",
       " ('A', 'NNP'),\n",
       " ('JOINT', 'NNP'),\n",
       " ('SESSION', 'NNP'),\n",
       " ('OF', 'IN'),\n",
       " ('THE', 'NNP'),\n",
       " ('CONGRESS', 'NNP'),\n",
       " ('ON', 'NNP'),\n",
       " ('THE', 'NNP'),\n",
       " ('STATE', 'NNP'),\n",
       " ('OF', 'IN'),\n",
       " ('THE', 'NNP'),\n",
       " ('UNION', 'NNP'),\n",
       " ('January', 'NNP'),\n",
       " ('31', 'CD'),\n",
       " (',', ','),\n",
       " ('2006', 'CD'),\n",
       " ('THE', 'NNP'),\n",
       " ('PRESIDENT', 'NNP'),\n",
       " (':', ':'),\n",
       " ('Thank', 'NNP'),\n",
       " ('you', 'PRP'),\n",
       " ('all', 'DT'),\n",
       " ('.', '.'),\n",
       " ('Mr.', 'NNP'),\n",
       " ('Speaker', 'NNP'),\n",
       " (',', ','),\n",
       " ('Vice', 'NNP'),\n",
       " ('President', 'NNP'),\n",
       " ('Cheney', 'NNP'),\n",
       " (',', ','),\n",
       " ('members', 'NNS'),\n",
       " ('of', 'IN'),\n",
       " ('Congress', 'NNP'),\n",
       " (',', ','),\n",
       " ('members', 'NNS'),\n",
       " ('of', 'IN'),\n",
       " ('the', 'DT'),\n",
       " ('Supreme', 'NNP'),\n",
       " ('Court', 'NNP'),\n",
       " ('and', 'CC'),\n",
       " ('diplomatic', 'JJ'),\n",
       " ('corps', 'NN'),\n",
       " (',', ',')]"
      ]
     },
     "execution_count": 17,
     "metadata": {},
     "output_type": "execute_result"
    }
   ],
   "source": [
    "pos[1:50]"
   ]
  },
  {
   "cell_type": "raw",
   "metadata": {},
   "source": [
    "POS tag list:\n",
    "\n",
    "CC\tcoordinating conjunction\n",
    "CD\tcardinal digit\n",
    "DT\tdeterminer\n",
    "EX\texistential there (like: \"there is\" ... think of it like \"there exists\")\n",
    "FW\tforeign word\n",
    "IN\tpreposition/subordinating conjunction\n",
    "JJ\tadjective\t'big'\n",
    "JJR\tadjective, comparative\t'bigger'\n",
    "JJS\tadjective, superlative\t'biggest'\n",
    "LS\tlist marker\t1)\n",
    "MD\tmodal\tcould, will\n",
    "NN\tnoun, singular 'desk'\n",
    "NNS\tnoun plural\t'desks'\n",
    "NNP\tproper noun, singular\t'Harrison'\n",
    "NNPS\tproper noun, plural\t'Americans'\n",
    "PDT\tpredeterminer\t'all the kids'\n",
    "POS\tpossessive ending\tparent's\n",
    "PRP\tpersonal pronoun\tI, he, she\n",
    "PRP$\tpossessive pronoun\tmy, his, hers\n",
    "RB\tadverb\tvery, silently,\n",
    "RBR\tadverb, comparative\tbetter\n",
    "RBS\tadverb, superlative\tbest\n",
    "RP\tparticle\tgive up\n",
    "TO\tto\tgo 'to' the store.\n",
    "UH\tinterjection\terrrrrrrrm\n",
    "VB\tverb, base form\ttake\n",
    "VBD\tverb, past tense\ttook\n",
    "VBG\tverb, gerund/present participle\ttaking\n",
    "VBN\tverb, past participle\ttaken\n",
    "VBP\tverb, sing. present, non-3d\ttake\n",
    "VBZ\tverb, 3rd person sing. present\ttakes\n",
    "WDT\twh-determiner\twhich\n",
    "WP\twh-pronoun\twho, what\n",
    "WP$\tpossessive wh-pronoun\twhose\n",
    "WRB\twh-abverb\twhere, when"
   ]
  },
  {
   "cell_type": "code",
   "execution_count": 18,
   "metadata": {
    "collapsed": true
   },
   "outputs": [],
   "source": [
    "from nltk.stem import WordNetLemmatizer"
   ]
  },
  {
   "cell_type": "code",
   "execution_count": 19,
   "metadata": {
    "collapsed": true
   },
   "outputs": [],
   "source": [
    "lemmatizer = WordNetLemmatizer()"
   ]
  },
  {
   "cell_type": "code",
   "execution_count": 20,
   "metadata": {},
   "outputs": [
    {
     "data": {
      "text/plain": [
       "'good'"
      ]
     },
     "execution_count": 20,
     "metadata": {},
     "output_type": "execute_result"
    }
   ],
   "source": [
    "lemmatizer.lemmatize(\"good\", pos = \"a\")"
   ]
  },
  {
   "cell_type": "code",
   "execution_count": 21,
   "metadata": {},
   "outputs": [
    {
     "data": {
      "text/plain": [
       "'good'"
      ]
     },
     "execution_count": 21,
     "metadata": {},
     "output_type": "execute_result"
    }
   ],
   "source": [
    "lemmatizer.lemmatize(\"better\", pos = \"a\")"
   ]
  },
  {
   "cell_type": "code",
   "execution_count": 22,
   "metadata": {},
   "outputs": [
    {
     "data": {
      "text/plain": [
       "'excellent'"
      ]
     },
     "execution_count": 22,
     "metadata": {},
     "output_type": "execute_result"
    }
   ],
   "source": [
    "lemmatizer.lemmatize(\"excellent\", pos = \"n\")"
   ]
  },
  {
   "cell_type": "code",
   "execution_count": 23,
   "metadata": {},
   "outputs": [
    {
     "data": {
      "text/plain": [
       "'paint'"
      ]
     },
     "execution_count": 23,
     "metadata": {},
     "output_type": "execute_result"
    }
   ],
   "source": [
    "lemmatizer.lemmatize(\"painting\", pos = \"v\")"
   ]
  },
  {
   "cell_type": "code",
   "execution_count": 24,
   "metadata": {},
   "outputs": [
    {
     "data": {
      "text/plain": [
       "'painting'"
      ]
     },
     "execution_count": 24,
     "metadata": {},
     "output_type": "execute_result"
    }
   ],
   "source": [
    "lemmatizer.lemmatize(\"painting\", pos = \"n\")"
   ]
  },
  {
   "cell_type": "code",
   "execution_count": 25,
   "metadata": {},
   "outputs": [
    {
     "data": {
      "text/plain": [
       "'study'"
      ]
     },
     "execution_count": 25,
     "metadata": {},
     "output_type": "execute_result"
    }
   ],
   "source": [
    "lemmatizer.lemmatize(\"studies\", pos = \"v\")"
   ]
  },
  {
   "cell_type": "code",
   "execution_count": 26,
   "metadata": {},
   "outputs": [
    {
     "data": {
      "text/plain": [
       "'study'"
      ]
     },
     "execution_count": 26,
     "metadata": {},
     "output_type": "execute_result"
    }
   ],
   "source": [
    "lemmatizer.lemmatize(\"studies\", pos = \"n\")"
   ]
  },
  {
   "cell_type": "code",
   "execution_count": 27,
   "metadata": {
    "collapsed": true
   },
   "outputs": [],
   "source": [
    "from nltk.corpus import wordnet"
   ]
  },
  {
   "cell_type": "code",
   "execution_count": 28,
   "metadata": {},
   "outputs": [
    {
     "data": {
      "text/plain": [
       "[Synset('can.n.01'),\n",
       " Synset('can.n.02'),\n",
       " Synset('can.n.03'),\n",
       " Synset('buttocks.n.01'),\n",
       " Synset('toilet.n.02'),\n",
       " Synset('toilet.n.01'),\n",
       " Synset('can.v.01'),\n",
       " Synset('displace.v.03')]"
      ]
     },
     "execution_count": 28,
     "metadata": {},
     "output_type": "execute_result"
    }
   ],
   "source": [
    "syns = wordnet.synsets(\"can\")\n",
    "syns"
   ]
  },
  {
   "cell_type": "code",
   "execution_count": 29,
   "metadata": {},
   "outputs": [
    {
     "data": {
      "text/plain": [
       "[Synset('respect.n.01'),\n",
       " Synset('attentiveness.n.01'),\n",
       " Synset('regard.n.03'),\n",
       " Synset('gaze.n.01'),\n",
       " Synset('esteem.n.01'),\n",
       " Synset('regard.n.06'),\n",
       " Synset('respect.n.03'),\n",
       " Synset('see.v.05'),\n",
       " Synset('regard.v.02'),\n",
       " Synset('involve.v.01')]"
      ]
     },
     "execution_count": 29,
     "metadata": {},
     "output_type": "execute_result"
    }
   ],
   "source": [
    "syns = wordnet.synsets(\"regard\")\n",
    "syns\n"
   ]
  },
  {
   "cell_type": "code",
   "execution_count": 30,
   "metadata": {},
   "outputs": [
    {
     "data": {
      "text/plain": [
       "'the condition of being honored (esteemed or respected or well regarded)'"
      ]
     },
     "execution_count": 30,
     "metadata": {},
     "output_type": "execute_result"
    }
   ],
   "source": [
    "syns[4].definition()"
   ]
  },
  {
   "cell_type": "code",
   "execution_count": 31,
   "metadata": {},
   "outputs": [
    {
     "data": {
      "text/plain": [
       "['give him my kind regards', 'my best wishes']"
      ]
     },
     "execution_count": 31,
     "metadata": {},
     "output_type": "execute_result"
    }
   ],
   "source": [
    "syns[2].examples()"
   ]
  },
  {
   "cell_type": "code",
   "execution_count": 32,
   "metadata": {},
   "outputs": [
    {
     "data": {
      "text/plain": [
       "['she mistook his manly regard for love', 'he inspires respect']"
      ]
     },
     "execution_count": 32,
     "metadata": {},
     "output_type": "execute_result"
    }
   ],
   "source": [
    "syns[5].examples()"
   ]
  },
  {
   "cell_type": "code",
   "execution_count": 30,
   "metadata": {},
   "outputs": [
    {
     "name": "stdout",
     "output_type": "stream",
     "text": [
      "0.6956521739130435\n"
     ]
    }
   ],
   "source": [
    "w1 = wordnet.synset('boat.n.01')\n",
    "w2 = wordnet.synset('car.n.01')\n",
    "print(w1.wup_similarity(w2))"
   ]
  },
  {
   "cell_type": "code",
   "execution_count": 31,
   "metadata": {},
   "outputs": [
    {
     "name": "stdout",
     "output_type": "stream",
     "text": [
      "0.9090909090909091\n"
     ]
    }
   ],
   "source": [
    "w1 = wordnet.synset('boat.n.01')\n",
    "w2 = wordnet.synset('ship.n.01')\n",
    "print(w1.wup_similarity(w2))"
   ]
  },
  {
   "cell_type": "code",
   "execution_count": 32,
   "metadata": {
    "collapsed": true
   },
   "outputs": [],
   "source": [
    "from nltk import ne_chunk"
   ]
  },
  {
   "cell_type": "code",
   "execution_count": 33,
   "metadata": {
    "collapsed": true
   },
   "outputs": [],
   "source": [
    "sentence = \"Sergey Brin, the manager of Google Inc. is walking down the street in London.\"\n",
    "sentence =  sentence.lower()"
   ]
  },
  {
   "cell_type": "code",
   "execution_count": 40,
   "metadata": {},
   "outputs": [
    {
     "ename": "FileNotFoundError",
     "evalue": "[Errno 2] No such file or directory: 'C:\\\\Users\\\\Nidhi\\\\AppData\\\\Local\\\\Temp\\\\tmp1xzj19yx.png'",
     "output_type": "error",
     "traceback": [
      "\u001b[1;31m---------------------------------------------------------------------------\u001b[0m",
      "\u001b[1;31mFileNotFoundError\u001b[0m                         Traceback (most recent call last)",
      "\u001b[1;32m~\\Anaconda3.5\\lib\\site-packages\\IPython\\core\\formatters.py\u001b[0m in \u001b[0;36m__call__\u001b[1;34m(self, obj)\u001b[0m\n\u001b[0;32m    334\u001b[0m             \u001b[0mmethod\u001b[0m \u001b[1;33m=\u001b[0m \u001b[0mget_real_method\u001b[0m\u001b[1;33m(\u001b[0m\u001b[0mobj\u001b[0m\u001b[1;33m,\u001b[0m \u001b[0mself\u001b[0m\u001b[1;33m.\u001b[0m\u001b[0mprint_method\u001b[0m\u001b[1;33m)\u001b[0m\u001b[1;33m\u001b[0m\u001b[0m\n\u001b[0;32m    335\u001b[0m             \u001b[1;32mif\u001b[0m \u001b[0mmethod\u001b[0m \u001b[1;32mis\u001b[0m \u001b[1;32mnot\u001b[0m \u001b[1;32mNone\u001b[0m\u001b[1;33m:\u001b[0m\u001b[1;33m\u001b[0m\u001b[0m\n\u001b[1;32m--> 336\u001b[1;33m                 \u001b[1;32mreturn\u001b[0m \u001b[0mmethod\u001b[0m\u001b[1;33m(\u001b[0m\u001b[1;33m)\u001b[0m\u001b[1;33m\u001b[0m\u001b[0m\n\u001b[0m\u001b[0;32m    337\u001b[0m             \u001b[1;32mreturn\u001b[0m \u001b[1;32mNone\u001b[0m\u001b[1;33m\u001b[0m\u001b[0m\n\u001b[0;32m    338\u001b[0m         \u001b[1;32melse\u001b[0m\u001b[1;33m:\u001b[0m\u001b[1;33m\u001b[0m\u001b[0m\n",
      "\u001b[1;32m~\\Anaconda3.5\\lib\\site-packages\\nltk\\tree.py\u001b[0m in \u001b[0;36m_repr_png_\u001b[1;34m(self)\u001b[0m\n\u001b[0;32m    731\u001b[0m                             \u001b[1;34m'-q -dEPSCrop -sDEVICE=png16m -r90 -dTextAlphaBits=4 -dGraphicsAlphaBits=4 -dSAFER -dBATCH -dNOPAUSE -sOutputFile={0:} {1:}'\u001b[0m\u001b[1;33m\u001b[0m\u001b[0m\n\u001b[0;32m    732\u001b[0m                             .format(out_path, in_path).split())\n\u001b[1;32m--> 733\u001b[1;33m             \u001b[1;32mwith\u001b[0m \u001b[0mopen\u001b[0m\u001b[1;33m(\u001b[0m\u001b[0mout_path\u001b[0m\u001b[1;33m,\u001b[0m \u001b[1;34m'rb'\u001b[0m\u001b[1;33m)\u001b[0m \u001b[1;32mas\u001b[0m \u001b[0msr\u001b[0m\u001b[1;33m:\u001b[0m\u001b[1;33m\u001b[0m\u001b[0m\n\u001b[0m\u001b[0;32m    734\u001b[0m                 \u001b[0mres\u001b[0m \u001b[1;33m=\u001b[0m \u001b[0msr\u001b[0m\u001b[1;33m.\u001b[0m\u001b[0mread\u001b[0m\u001b[1;33m(\u001b[0m\u001b[1;33m)\u001b[0m\u001b[1;33m\u001b[0m\u001b[0m\n\u001b[0;32m    735\u001b[0m             \u001b[0mos\u001b[0m\u001b[1;33m.\u001b[0m\u001b[0mremove\u001b[0m\u001b[1;33m(\u001b[0m\u001b[0min_path\u001b[0m\u001b[1;33m)\u001b[0m\u001b[1;33m\u001b[0m\u001b[0m\n",
      "\u001b[1;31mFileNotFoundError\u001b[0m: [Errno 2] No such file or directory: 'C:\\\\Users\\\\Nidhi\\\\AppData\\\\Local\\\\Temp\\\\tmp1xzj19yx.png'"
     ]
    },
    {
     "data": {
      "text/plain": [
       "Tree('S', [('sergey', 'NN'), ('brin', 'NN'), (',', ','), ('the', 'DT'), ('manager', 'NN'), ('of', 'IN'), ('google', 'NN'), ('inc.', 'NN'), ('is', 'VBZ'), ('walking', 'VBG'), ('down', 'RP'), ('the', 'DT'), ('street', 'NN'), ('in', 'IN'), ('london', 'NN'), ('.', '.')])"
      ]
     },
     "execution_count": 40,
     "metadata": {},
     "output_type": "execute_result"
    }
   ],
   "source": [
    "converted = ne_chunk(pos_tag(word_tokenize(sentence)))\n",
    "converted"
   ]
  },
  {
   "cell_type": "raw",
   "metadata": {},
   "source": [
    "ORGANIZATION - Georgia-Pacific Corp., WHO\n",
    "PERSON - Eddy Bonte, President Obama\n",
    "LOCATION - Murray River, Mount Everest\n",
    "DATE - June, 2008-06-29\n",
    "TIME - two fifty a m, 1:30 p.m.\n",
    "MONEY - 175 million Canadian Dollars, GBP 10.40\n",
    "PERCENT - twenty pct, 18.75 %\n",
    "FACILITY - Washington Monument, Stonehenge\n",
    "GPE - South East Asia, Midlothian"
   ]
  },
  {
   "cell_type": "code",
   "execution_count": 35,
   "metadata": {},
   "outputs": [
    {
     "name": "stdout",
     "output_type": "stream",
     "text": [
      "showing info https://raw.githubusercontent.com/nltk/nltk_data/gh-pages/index.xml\n"
     ]
    },
    {
     "data": {
      "text/plain": [
       "True"
      ]
     },
     "execution_count": 35,
     "metadata": {},
     "output_type": "execute_result"
    }
   ],
   "source": [
    "import nltk\n",
    "nltk.download()"
   ]
  },
  {
   "cell_type": "code",
   "execution_count": 36,
   "metadata": {
    "collapsed": true
   },
   "outputs": [],
   "source": [
    "from nltk.corpus import movie_reviews"
   ]
  },
  {
   "cell_type": "markdown",
   "metadata": {},
   "source": [
    "movie_reviews.categories()"
   ]
  },
  {
   "cell_type": "code",
   "execution_count": 37,
   "metadata": {},
   "outputs": [
    {
     "data": {
      "text/plain": [
       "['capsule', ':', 'in', '2176', 'on', 'the', 'planet', ...]"
      ]
     },
     "execution_count": 37,
     "metadata": {},
     "output_type": "execute_result"
    }
   ],
   "source": [
    "movie_reviews.words(movie_reviews.fileids()[5])"
   ]
  },
  {
   "cell_type": "code",
   "execution_count": 41,
   "metadata": {
    "collapsed": true
   },
   "outputs": [],
   "source": [
    "documents = []\n",
    "for category in movie_reviews.categories():\n",
    "    for fileid in movie_reviews.fileids(category):\n",
    "        documents.append((movie_reviews.words(fileid), category))"
   ]
  },
  {
   "cell_type": "code",
   "execution_count": 42,
   "metadata": {},
   "outputs": [
    {
     "data": {
      "text/plain": [
       "2000"
      ]
     },
     "execution_count": 42,
     "metadata": {},
     "output_type": "execute_result"
    }
   ],
   "source": [
    "len(documents)"
   ]
  },
  {
   "cell_type": "code",
   "execution_count": 43,
   "metadata": {},
   "outputs": [
    {
     "data": {
      "text/plain": [
       "'neg'"
      ]
     },
     "execution_count": 43,
     "metadata": {},
     "output_type": "execute_result"
    }
   ],
   "source": [
    "documents[2][1]"
   ]
  },
  {
   "cell_type": "code",
   "execution_count": 44,
   "metadata": {
    "collapsed": true
   },
   "outputs": [],
   "source": [
    "import random\n",
    "random.shuffle(documents)"
   ]
  },
  {
   "cell_type": "code",
   "execution_count": 59,
   "metadata": {
    "collapsed": true
   },
   "outputs": [],
   "source": [
    "import numpy as n"
   ]
  },
  {
   "cell_type": "code",
   "execution_count": 45,
   "metadata": {
    "collapsed": true
   },
   "outputs": [],
   "source": [
    "all_words = []\n",
    "stops.update(\".\", \"?\", \"(\", \")\", \",\", \"-\", \"'\", '\"')\n",
    "for w in movie_reviews.words():\n",
    "    if w.lower() not in stops:\n",
    "        all_words.append(w.lower())"
   ]
  },
  {
   "cell_type": "code",
   "execution_count": 46,
   "metadata": {},
   "outputs": [
    {
     "data": {
      "text/plain": [
       "721009"
      ]
     },
     "execution_count": 46,
     "metadata": {},
     "output_type": "execute_result"
    }
   ],
   "source": [
    "len(all_words)"
   ]
  },
  {
   "cell_type": "code",
   "execution_count": 47,
   "metadata": {
    "collapsed": true
   },
   "outputs": [],
   "source": [
    "import nltk"
   ]
  },
  {
   "cell_type": "code",
   "execution_count": 48,
   "metadata": {},
   "outputs": [
    {
     "data": {
      "text/plain": [
       "[('film', 9517),\n",
       " ('one', 5852),\n",
       " ('movie', 5771),\n",
       " ('like', 3690),\n",
       " (':', 3042),\n",
       " ('even', 2565),\n",
       " ('good', 2411),\n",
       " ('time', 2411),\n",
       " ('story', 2169),\n",
       " ('would', 2109),\n",
       " ('much', 2049),\n",
       " ('character', 2020),\n",
       " ('also', 1967),\n",
       " ('get', 1949),\n",
       " ('two', 1911)]"
      ]
     },
     "execution_count": 48,
     "metadata": {},
     "output_type": "execute_result"
    }
   ],
   "source": [
    "all_words = nltk.FreqDist(all_words)\n",
    "all_words.most_common(15)"
   ]
  },
  {
   "cell_type": "code",
   "execution_count": 61,
   "metadata": {},
   "outputs": [],
   "source": [
    "word_features = n.array(all_words.most_common(3000))"
   ]
  },
  {
   "cell_type": "code",
   "execution_count": 62,
   "metadata": {
    "collapsed": true
   },
   "outputs": [],
   "source": [
    "word_features = []\n",
    "most_common = all_words.most_common()"
   ]
  },
  {
   "cell_type": "code",
   "execution_count": 63,
   "metadata": {
    "collapsed": true
   },
   "outputs": [],
   "source": [
    "for i in range(3000):\n",
    "    word_features.append(most_common[i][0])"
   ]
  },
  {
   "cell_type": "code",
   "execution_count": 64,
   "metadata": {},
   "outputs": [
    {
     "data": {
      "text/plain": [
       "3000"
      ]
     },
     "execution_count": 64,
     "metadata": {},
     "output_type": "execute_result"
    }
   ],
   "source": [
    "len(word_features)"
   ]
  },
  {
   "cell_type": "code",
   "execution_count": 65,
   "metadata": {},
   "outputs": [
    {
     "data": {
      "text/plain": [
       "['one', 'movie', 'like', ':', 'even', 'good', 'time', 'story', 'would']"
      ]
     },
     "execution_count": 65,
     "metadata": {},
     "output_type": "execute_result"
    }
   ],
   "source": [
    "word_features[1:10]"
   ]
  },
  {
   "cell_type": "code",
   "execution_count": 66,
   "metadata": {
    "collapsed": true
   },
   "outputs": [],
   "source": [
    "def find_features(document):\n",
    "    words = set(document)\n",
    "    features = {}\n",
    "    for w in word_features:\n",
    "        features[w] = (w in words)\n",
    "    return features"
   ]
  },
  {
   "cell_type": "code",
   "execution_count": 67,
   "metadata": {
    "collapsed": true
   },
   "outputs": [],
   "source": [
    "features = find_features(movie_reviews.words(movie_reviews.fileids()[2]))"
   ]
  },
  {
   "cell_type": "code",
   "execution_count": 68,
   "metadata": {
    "collapsed": true
   },
   "outputs": [],
   "source": [
    "featuresets = [(find_features(doc), category) for (doc,category) in documents]"
   ]
  },
  {
   "cell_type": "code",
   "execution_count": 69,
   "metadata": {},
   "outputs": [
    {
     "data": {
      "text/plain": [
       "({'reference': False,\n",
       "  'headed': True,\n",
       "  'depressing': False,\n",
       "  'pulled': False,\n",
       "  'elizabeth': False,\n",
       "  'paltrow': False,\n",
       "  'gags': False,\n",
       "  'terms': False,\n",
       "  'felt': False,\n",
       "  'annoying': False,\n",
       "  'anyone': False,\n",
       "  'many': False,\n",
       "  'stick': False,\n",
       "  'pictures': False,\n",
       "  'usual': False,\n",
       "  'president': False,\n",
       "  'impressed': False,\n",
       "  'flat': False,\n",
       "  'local': False,\n",
       "  'casting': False,\n",
       "  'critics': False,\n",
       "  'sea': False,\n",
       "  'gag': False,\n",
       "  'dr': False,\n",
       "  'social': False,\n",
       "  'cause': False,\n",
       "  'technology': False,\n",
       "  'hanks': False,\n",
       "  'instead': False,\n",
       "  'naturally': False,\n",
       "  'ironically': False,\n",
       "  'hardly': False,\n",
       "  'sets': False,\n",
       "  'miss': False,\n",
       "  'rising': False,\n",
       "  'installment': False,\n",
       "  'cover': False,\n",
       "  'screenwriter': False,\n",
       "  'frankly': False,\n",
       "  'seemingly': False,\n",
       "  'horrible': False,\n",
       "  'fights': False,\n",
       "  'england': True,\n",
       "  'bats': False,\n",
       "  'entire': False,\n",
       "  'cameos': False,\n",
       "  'nicely': False,\n",
       "  'space': False,\n",
       "  'andrew': False,\n",
       "  'exciting': True,\n",
       "  'potential': False,\n",
       "  'jim': False,\n",
       "  'considering': False,\n",
       "  'maybe': False,\n",
       "  'promising': False,\n",
       "  'wise': False,\n",
       "  'otherwise': False,\n",
       "  'someone': False,\n",
       "  'easily': False,\n",
       "  'language': False,\n",
       "  'dollar': False,\n",
       "  'sorts': False,\n",
       "  'box': False,\n",
       "  'elaborate': False,\n",
       "  'viewer': False,\n",
       "  'bat': False,\n",
       "  'crash': False,\n",
       "  'cage': False,\n",
       "  'beautiful': False,\n",
       "  'fugitive': False,\n",
       "  'action': False,\n",
       "  'mickey': False,\n",
       "  'editing': False,\n",
       "  'decided': False,\n",
       "  'sequence': False,\n",
       "  'e': False,\n",
       "  'delight': False,\n",
       "  'makeup': False,\n",
       "  'worth': False,\n",
       "  'wear': True,\n",
       "  'everyone': False,\n",
       "  'used': False,\n",
       "  'liners': False,\n",
       "  'information': False,\n",
       "  'appearances': False,\n",
       "  'video': True,\n",
       "  'courtroom': False,\n",
       "  'superior': False,\n",
       "  'mystery': False,\n",
       "  'personally': False,\n",
       "  'oddly': False,\n",
       "  'history': False,\n",
       "  'understand': False,\n",
       "  'across': False,\n",
       "  'ensemble': False,\n",
       "  'year': False,\n",
       "  'neve': False,\n",
       "  'dan': False,\n",
       "  'woo': False,\n",
       "  'positive': False,\n",
       "  'three': True,\n",
       "  'wedding': False,\n",
       "  'energy': False,\n",
       "  'dream': False,\n",
       "  'sister': False,\n",
       "  'creative': False,\n",
       "  'seth': False,\n",
       "  'true': False,\n",
       "  '0': False,\n",
       "  'learn': False,\n",
       "  'care': False,\n",
       "  'hero': False,\n",
       "  'park': False,\n",
       "  'expert': False,\n",
       "  'halloween': False,\n",
       "  'twist': False,\n",
       "  'homage': False,\n",
       "  'band': False,\n",
       "  'soundtrack': False,\n",
       "  'animated': False,\n",
       "  'established': False,\n",
       "  'thrown': False,\n",
       "  'difference': False,\n",
       "  'dad': False,\n",
       "  'interaction': False,\n",
       "  'kind': False,\n",
       "  'adams': False,\n",
       "  'men': False,\n",
       "  'verhoeven': False,\n",
       "  'marks': False,\n",
       "  'commercial': False,\n",
       "  'usually': False,\n",
       "  'virus': False,\n",
       "  'message': False,\n",
       "  'series': False,\n",
       "  'game': True,\n",
       "  'want': True,\n",
       "  'wants': False,\n",
       "  'center': False,\n",
       "  'situations': False,\n",
       "  'intelligence': False,\n",
       "  'mother': True,\n",
       "  'mark': True,\n",
       "  'loose': False,\n",
       "  'miles': False,\n",
       "  '3': False,\n",
       "  'happen': False,\n",
       "  'murders': False,\n",
       "  'countless': False,\n",
       "  'spoken': False,\n",
       "  'mostly': False,\n",
       "  'mitchell': False,\n",
       "  'lawyer': False,\n",
       "  'window': False,\n",
       "  'arthur': False,\n",
       "  'subplot': False,\n",
       "  'certain': False,\n",
       "  'track': False,\n",
       "  'martial': False,\n",
       "  'supposedly': False,\n",
       "  'write': False,\n",
       "  'full': False,\n",
       "  'luck': False,\n",
       "  'paper': False,\n",
       "  'screenplay': False,\n",
       "  'discovered': False,\n",
       "  'meaning': False,\n",
       "  'screaming': False,\n",
       "  'called': False,\n",
       "  'damon': False,\n",
       "  'cox': False,\n",
       "  'worthy': False,\n",
       "  'students': False,\n",
       "  'images': False,\n",
       "  'mass': False,\n",
       "  'points': False,\n",
       "  'fine': False,\n",
       "  'police': False,\n",
       "  'group': False,\n",
       "  'back': False,\n",
       "  'brown': False,\n",
       "  'hilarious': False,\n",
       "  'narration': False,\n",
       "  'million': False,\n",
       "  'hackman': False,\n",
       "  'nearly': False,\n",
       "  'tricks': False,\n",
       "  'viewers': False,\n",
       "  'abandoned': False,\n",
       "  '1997': False,\n",
       "  'weird': False,\n",
       "  'strikes': False,\n",
       "  'knowing': False,\n",
       "  'taylor': False,\n",
       "  'captain': False,\n",
       "  'delightful': False,\n",
       "  'eye': False,\n",
       "  'patch': False,\n",
       "  'screenwriters': False,\n",
       "  'hopefully': False,\n",
       "  'shock': False,\n",
       "  'van': False,\n",
       "  'nicholson': False,\n",
       "  'tommy': False,\n",
       "  'solid': False,\n",
       "  'ride': False,\n",
       "  'features': True,\n",
       "  'apes': False,\n",
       "  'smile': False,\n",
       "  'single': False,\n",
       "  'prove': False,\n",
       "  'get': False,\n",
       "  'john': False,\n",
       "  'deliver': False,\n",
       "  'francis': False,\n",
       "  'carter': False,\n",
       "  'basketball': False,\n",
       "  'executive': False,\n",
       "  'forces': False,\n",
       "  'academy': False,\n",
       "  'coming': False,\n",
       "  'aside': False,\n",
       "  'suggests': False,\n",
       "  'goodman': False,\n",
       "  'development': True,\n",
       "  'niro': False,\n",
       "  'greatest': False,\n",
       "  'seem': False,\n",
       "  'depth': False,\n",
       "  'north': False,\n",
       "  'jason': False,\n",
       "  'levels': False,\n",
       "  'mind': False,\n",
       "  'classic': True,\n",
       "  'co': False,\n",
       "  'literally': False,\n",
       "  'gabriel': False,\n",
       "  'dean': False,\n",
       "  'walk': False,\n",
       "  'charming': False,\n",
       "  'unfortunate': False,\n",
       "  'outrageous': False,\n",
       "  'light': False,\n",
       "  'ted': False,\n",
       "  'limited': False,\n",
       "  'admit': False,\n",
       "  '2001': False,\n",
       "  'effort': False,\n",
       "  'left': False,\n",
       "  'trip': False,\n",
       "  'via': False,\n",
       "  'constantly': False,\n",
       "  'shut': False,\n",
       "  'stereotypes': False,\n",
       "  'around': False,\n",
       "  'threatening': False,\n",
       "  'girl': True,\n",
       "  '1998': False,\n",
       "  'fantasies': False,\n",
       "  'remotely': False,\n",
       "  'chain': False,\n",
       "  'capture': False,\n",
       "  'rocky': False,\n",
       "  'genuine': False,\n",
       "  'design': False,\n",
       "  'lewis': False,\n",
       "  'working': False,\n",
       "  'general': False,\n",
       "  'ho': False,\n",
       "  'respect': False,\n",
       "  'sees': False,\n",
       "  'delivery': False,\n",
       "  'intended': False,\n",
       "  'amazing': False,\n",
       "  'hired': False,\n",
       "  'trilogy': False,\n",
       "  'closer': False,\n",
       "  'drunken': False,\n",
       "  'singing': False,\n",
       "  'necessary': False,\n",
       "  'presented': False,\n",
       "  'community': False,\n",
       "  'stock': False,\n",
       "  'reveal': False,\n",
       "  'baseball': False,\n",
       "  'finding': False,\n",
       "  'mel': False,\n",
       "  'copy': False,\n",
       "  'rate': False,\n",
       "  'denise': False,\n",
       "  'press': False,\n",
       "  'trust': False,\n",
       "  'guys': False,\n",
       "  'psychological': False,\n",
       "  'themes': False,\n",
       "  'hot': False,\n",
       "  'classics': False,\n",
       "  'baby': False,\n",
       "  'physical': False,\n",
       "  'obvious': False,\n",
       "  'bacon': False,\n",
       "  'stereotypical': False,\n",
       "  'dude': False,\n",
       "  'within': False,\n",
       "  'sean': False,\n",
       "  'hey': False,\n",
       "  'consistently': False,\n",
       "  'fare': False,\n",
       "  'alas': False,\n",
       "  'enter': False,\n",
       "  'mtv': False,\n",
       "  'search': False,\n",
       "  'disappointed': False,\n",
       "  'brian': False,\n",
       "  'angels': False,\n",
       "  'popular': False,\n",
       "  'taking': False,\n",
       "  'sitcom': False,\n",
       "  'adds': False,\n",
       "  'ed': False,\n",
       "  'destroyed': False,\n",
       "  'clever': False,\n",
       "  'patient': False,\n",
       "  'tyler': False,\n",
       "  'use': False,\n",
       "  'snipes': False,\n",
       "  'remaining': False,\n",
       "  'judge': False,\n",
       "  'personal': False,\n",
       "  'pieces': False,\n",
       "  'relationships': False,\n",
       "  'sake': False,\n",
       "  'event': False,\n",
       "  'personality': False,\n",
       "  'powerful': False,\n",
       "  'root': False,\n",
       "  'nobody': False,\n",
       "  'unable': False,\n",
       "  'friends': False,\n",
       "  'charge': False,\n",
       "  'urban': False,\n",
       "  'girlfriend': False,\n",
       "  'games': False,\n",
       "  'baldwin': False,\n",
       "  'view': False,\n",
       "  'sleepy': False,\n",
       "  'cannot': False,\n",
       "  'plots': False,\n",
       "  'semi': False,\n",
       "  'r': False,\n",
       "  'reviews': False,\n",
       "  'appear': False,\n",
       "  'question': False,\n",
       "  'bringing': False,\n",
       "  'numbers': False,\n",
       "  'attractive': False,\n",
       "  'continues': False,\n",
       "  'lucy': False,\n",
       "  'falls': False,\n",
       "  'mountain': False,\n",
       "  'jedi': False,\n",
       "  'remains': False,\n",
       "  'everywhere': False,\n",
       "  'jay': False,\n",
       "  'handsome': False,\n",
       "  'mary': False,\n",
       "  'touches': False,\n",
       "  'second': False,\n",
       "  'desert': False,\n",
       "  'brings': False,\n",
       "  'names': False,\n",
       "  '--': False,\n",
       "  'mrs': False,\n",
       "  'tension': False,\n",
       "  'sort': False,\n",
       "  'gone': False,\n",
       "  'reason': False,\n",
       "  'multiple': False,\n",
       "  'plain': False,\n",
       "  'scenery': False,\n",
       "  'inept': False,\n",
       "  'robert': False,\n",
       "  'featured': False,\n",
       "  'believe': True,\n",
       "  'chris': False,\n",
       "  'soldier': False,\n",
       "  'interesting': False,\n",
       "  'night': False,\n",
       "  'early': False,\n",
       "  'force': False,\n",
       "  'gotten': False,\n",
       "  'neither': False,\n",
       "  'ways': False,\n",
       "  'conflict': False,\n",
       "  'director': False,\n",
       "  'horizon': False,\n",
       "  'rush': False,\n",
       "  'much': False,\n",
       "  'choice': False,\n",
       "  'thrills': False,\n",
       "  '70s': False,\n",
       "  'loving': False,\n",
       "  'survive': False,\n",
       "  'prime': False,\n",
       "  'confrontation': False,\n",
       "  'facts': False,\n",
       "  'lie': False,\n",
       "  'inventive': False,\n",
       "  'heavy': False,\n",
       "  'par': False,\n",
       "  'expensive': False,\n",
       "  'downright': False,\n",
       "  'success': False,\n",
       "  'include': False,\n",
       "  'jackson': False,\n",
       "  'pure': False,\n",
       "  'glory': False,\n",
       "  'unbelievable': False,\n",
       "  'complex': False,\n",
       "  'important': False,\n",
       "  'favor': False,\n",
       "  'crowd': False,\n",
       "  'change': False,\n",
       "  'tough': True,\n",
       "  'blockbuster': False,\n",
       "  'dramatic': False,\n",
       "  'performers': False,\n",
       "  'animals': False,\n",
       "  'holding': False,\n",
       "  'excitement': False,\n",
       "  'foreign': False,\n",
       "  'scott': False,\n",
       "  'enormous': False,\n",
       "  'schwarzenegger': False,\n",
       "  'mafia': False,\n",
       "  'historical': False,\n",
       "  'state': False,\n",
       "  'charm': False,\n",
       "  'overly': False,\n",
       "  'form': False,\n",
       "  'supporting': False,\n",
       "  'appealing': False,\n",
       "  'hands': False,\n",
       "  'protagonists': False,\n",
       "  'decides': False,\n",
       "  'land': False,\n",
       "  'produce': False,\n",
       "  'flashback': False,\n",
       "  'strike': False,\n",
       "  'ripley': False,\n",
       "  'presence': False,\n",
       "  'tv': False,\n",
       "  'quickly': False,\n",
       "  'mike': False,\n",
       "  'looking': True,\n",
       "  'affleck': False,\n",
       "  'marriage': False,\n",
       "  'born': False,\n",
       "  'outside': False,\n",
       "  'society': False,\n",
       "  'draw': False,\n",
       "  'writers': False,\n",
       "  'songs': False,\n",
       "  'theater': False,\n",
       "  'shocking': False,\n",
       "  'costume': False,\n",
       "  'horse': False,\n",
       "  'reese': False,\n",
       "  'noir': False,\n",
       "  'appropriate': False,\n",
       "  'wrestling': False,\n",
       "  'effective': False,\n",
       "  'impressive': False,\n",
       "  'compared': False,\n",
       "  'lady': False,\n",
       "  'thompson': False,\n",
       "  'critical': False,\n",
       "  'china': False,\n",
       "  'wit': True,\n",
       "  'hong': False,\n",
       "  'independence': False,\n",
       "  'side': False,\n",
       "  'actors': False,\n",
       "  'covered': False,\n",
       "  'generic': False,\n",
       "  'list': False,\n",
       "  'attack': False,\n",
       "  'quirky': False,\n",
       "  'shot': False,\n",
       "  'somewhere': False,\n",
       "  'studio': False,\n",
       "  'mile': False,\n",
       "  'subject': False,\n",
       "  'todd': False,\n",
       "  'everybody': False,\n",
       "  'directed': True,\n",
       "  'cat': False,\n",
       "  'struggling': False,\n",
       "  'sci': False,\n",
       "  'marie': False,\n",
       "  'factor': False,\n",
       "  'awful': False,\n",
       "  'increasingly': False,\n",
       "  'magic': False,\n",
       "  'originality': False,\n",
       "  'dealing': False,\n",
       "  'armageddon': False,\n",
       "  'appeal': False,\n",
       "  'satire': False,\n",
       "  'thomas': False,\n",
       "  'added': False,\n",
       "  'directorial': False,\n",
       "  'performance': False,\n",
       "  'half': False,\n",
       "  'introduced': False,\n",
       "  'drew': False,\n",
       "  'train': False,\n",
       "  'caught': False,\n",
       "  'dreams': False,\n",
       "  'treatment': False,\n",
       "  'average': False,\n",
       "  'follow': False,\n",
       "  'using': False,\n",
       "  'simply': True,\n",
       "  'walks': False,\n",
       "  'less': True,\n",
       "  'pam': False,\n",
       "  'sell': False,\n",
       "  'greg': False,\n",
       "  'x': False,\n",
       "  'yeah': False,\n",
       "  'political': False,\n",
       "  'multi': False,\n",
       "  'garbage': False,\n",
       "  'camera': False,\n",
       "  'stiller': False,\n",
       "  'intellectual': False,\n",
       "  'jake': False,\n",
       "  'ask': False,\n",
       "  'pick': False,\n",
       "  'priest': False,\n",
       "  'deals': False,\n",
       "  'ms': True,\n",
       "  'air': True,\n",
       "  'eat': False,\n",
       "  'next': False,\n",
       "  'took': False,\n",
       "  'learning': False,\n",
       "  'sure': False,\n",
       "  'irish': False,\n",
       "  'prisoner': False,\n",
       "  'female': False,\n",
       "  'defense': False,\n",
       "  'hunt': False,\n",
       "  'post': False,\n",
       "  'described': False,\n",
       "  'concerned': False,\n",
       "  'brother': False,\n",
       "  'wonder': False,\n",
       "  'failed': False,\n",
       "  'chases': False,\n",
       "  'talk': True,\n",
       "  'bag': False,\n",
       "  'purpose': False,\n",
       "  'sports': True,\n",
       "  'charlie': False,\n",
       "  'program': False,\n",
       "  'audiences': False,\n",
       "  'perfection': False,\n",
       "  'reminiscent': False,\n",
       "  'music': False,\n",
       "  'calls': False,\n",
       "  'growing': False,\n",
       "  'sword': False,\n",
       "  'disappointment': False,\n",
       "  'comes': False,\n",
       "  'service': False,\n",
       "  'smart': False,\n",
       "  'except': False,\n",
       "  'key': False,\n",
       "  'term': False,\n",
       "  'waiting': False,\n",
       "  'bits': False,\n",
       "  'funny': False,\n",
       "  'whose': False,\n",
       "  'terry': False,\n",
       "  'makers': False,\n",
       "  'idiotic': False,\n",
       "  'terrific': False,\n",
       "  'dirty': False,\n",
       "  'gay': False,\n",
       "  'pilot': False,\n",
       "  'unfunny': False,\n",
       "  'definitely': False,\n",
       "  'time': True,\n",
       "  'super': True,\n",
       "  'previous': False,\n",
       "  'brothers': True,\n",
       "  'almost': False,\n",
       "  'spends': False,\n",
       "  'gory': False,\n",
       "  'pretty': False,\n",
       "  'completely': False,\n",
       "  'stone': False,\n",
       "  'loves': False,\n",
       "  'washington': False,\n",
       "  'conclusion': False,\n",
       "  'fear': False,\n",
       "  'documentary': False,\n",
       "  'wonderful': False,\n",
       "  'exist': False,\n",
       "  'death': False,\n",
       "  'sing': False,\n",
       "  'recent': False,\n",
       "  'gun': False,\n",
       "  'blame': False,\n",
       "  'whether': False,\n",
       "  'masterpiece': False,\n",
       "  'dancing': False,\n",
       "  'stronger': False,\n",
       "  'loved': False,\n",
       "  'earth': False,\n",
       "  'way': True,\n",
       "  'cruise': False,\n",
       "  'amanda': False,\n",
       "  'finally': False,\n",
       "  'civil': False,\n",
       "  'book': False,\n",
       "  'reeves': False,\n",
       "  'eccentric': False,\n",
       "  'sends': False,\n",
       "  'davis': False,\n",
       "  'teens': False,\n",
       "  'credits': False,\n",
       "  'convince': False,\n",
       "  'michelle': False,\n",
       "  'tiny': False,\n",
       "  'meanwhile': False,\n",
       "  'drives': False,\n",
       "  'saying': False,\n",
       "  'batman': False,\n",
       "  'sitting': False,\n",
       "  'fellow': False,\n",
       "  'blood': False,\n",
       "  'move': True,\n",
       "  'office': False,\n",
       "  'falling': False,\n",
       "  'realistic': False,\n",
       "  'accident': False,\n",
       "  'anne': False,\n",
       "  'terrible': False,\n",
       "  'even': True,\n",
       "  'parts': False,\n",
       "  'black': False,\n",
       "  'strong': False,\n",
       "  'bridge': False,\n",
       "  'pleasure': False,\n",
       "  'prison': False,\n",
       "  'occurs': False,\n",
       "  'title': True,\n",
       "  'soon': False,\n",
       "  'feel': False,\n",
       "  'two': False,\n",
       "  'remain': False,\n",
       "  'fill': False,\n",
       "  'decision': False,\n",
       "  'inevitable': False,\n",
       "  'interest': False,\n",
       "  'laughs': False,\n",
       "  'law': False,\n",
       "  'face': False,\n",
       "  'appreciate': False,\n",
       "  'research': False,\n",
       "  'ryan': False,\n",
       "  'wan': False,\n",
       "  'driven': False,\n",
       "  'horribly': False,\n",
       "  'place': False,\n",
       "  'nevertheless': False,\n",
       "  '000': False,\n",
       "  '4': False,\n",
       "  'negative': False,\n",
       "  'famous': False,\n",
       "  'scream': False,\n",
       "  'jolie': True,\n",
       "  'initial': False,\n",
       "  'escape': False,\n",
       "  'henry': False,\n",
       "  'eight': False,\n",
       "  'uses': False,\n",
       "  'front': False,\n",
       "  'child': False,\n",
       "  'etc': False,\n",
       "  'good': False,\n",
       "  'court': False,\n",
       "  'machine': False,\n",
       "  'shots': False,\n",
       "  'conventional': False,\n",
       "  'model': False,\n",
       "  'putting': False,\n",
       "  'offer': False,\n",
       "  'rape': False,\n",
       "  'risk': False,\n",
       "  'allowed': False,\n",
       "  'order': False,\n",
       "  'rest': False,\n",
       "  'matters': False,\n",
       "  'suffer': False,\n",
       "  'gore': False,\n",
       "  'entertaining': False,\n",
       "  'military': False,\n",
       "  'beauty': False,\n",
       "  'soap': False,\n",
       "  'greater': False,\n",
       "  'mediocre': False,\n",
       "  'questions': False,\n",
       "  'warrior': False,\n",
       "  'robocop': False,\n",
       "  'decent': False,\n",
       "  'snake': False,\n",
       "  'aware': False,\n",
       "  'parents': False,\n",
       "  'america': False,\n",
       "  'challenge': True,\n",
       "  'husband': False,\n",
       "  'bitter': True,\n",
       "  'bank': False,\n",
       "  'random': False,\n",
       "  'afraid': False,\n",
       "  'chief': False,\n",
       "  'talks': False,\n",
       "  'epic': False,\n",
       "  'jimmy': False,\n",
       "  'figure': True,\n",
       "  'brooks': False,\n",
       "  'digital': False,\n",
       "  'accidentally': False,\n",
       "  'friendship': False,\n",
       "  'wall': False,\n",
       "  'target': False,\n",
       "  'attraction': False,\n",
       "  'price': False,\n",
       "  'gary': False,\n",
       "  'starring': False,\n",
       "  'jail': False,\n",
       "  'punch': False,\n",
       "  'pair': False,\n",
       "  'focuses': False,\n",
       "  'arrives': False,\n",
       "  'compare': False,\n",
       "  'hoping': False,\n",
       "  '2': False,\n",
       "  'toward': False,\n",
       "  'break': False,\n",
       "  'lot': False,\n",
       "  'fighting': False,\n",
       "  'saved': False,\n",
       "  'hour': False,\n",
       "  'hair': False,\n",
       "  'fate': False,\n",
       "  'skills': False,\n",
       "  'welles': False,\n",
       "  'magical': False,\n",
       "  'critique': False,\n",
       "  'government': False,\n",
       "  'english': True,\n",
       "  'available': False,\n",
       "  'cinematographer': False,\n",
       "  'jean': False,\n",
       "  'eventually': False,\n",
       "  'cliched': False,\n",
       "  'nonetheless': False,\n",
       "  'norton': False,\n",
       "  'likable': False,\n",
       "  '=': False,\n",
       "  'romantic': False,\n",
       "  'bulworth': False,\n",
       "  'un': False,\n",
       "  'army': False,\n",
       "  'bleak': False,\n",
       "  'leaving': False,\n",
       "  'opportunity': False,\n",
       "  'photography': False,\n",
       "  'arnold': False,\n",
       "  'career': True,\n",
       "  'worker': False,\n",
       "  'flick': False,\n",
       "  'chinese': False,\n",
       "  'mars': False,\n",
       "  'total': False,\n",
       "  'religion': False,\n",
       "  'private': False,\n",
       "  'subtle': False,\n",
       "  '80': False,\n",
       "  'moment': False,\n",
       "  '*': False,\n",
       "  'finish': False,\n",
       "  'believes': False,\n",
       "  'troubled': False,\n",
       "  'provoking': False,\n",
       "  'puts': True,\n",
       "  'rarely': False,\n",
       "  'joy': False,\n",
       "  'irritating': False,\n",
       "  'freeman': False,\n",
       "  'contact': False,\n",
       "  'ridiculous': False,\n",
       "  'arquette': False,\n",
       "  'wasted': False,\n",
       "  'stuart': False,\n",
       "  'kids': False,\n",
       "  'went': False,\n",
       "  'hank': False,\n",
       "  'planet': False,\n",
       "  'table': False,\n",
       "  'attacks': False,\n",
       "  'conspiracy': False,\n",
       "  'toys': False,\n",
       "  'secret': False,\n",
       "  'fish': False,\n",
       "  'animal': False,\n",
       "  'desperate': False,\n",
       "  'thin': True,\n",
       "  'ended': False,\n",
       "  'flynt': False,\n",
       "  'fame': False,\n",
       "  'besides': False,\n",
       "  'responsible': False,\n",
       "  'holes': False,\n",
       "  'movie': True,\n",
       "  'teenagers': False,\n",
       "  'power': False,\n",
       "  'fears': False,\n",
       "  'sixth': False,\n",
       "  'julie': False,\n",
       "  'frightening': False,\n",
       "  'terminator': False,\n",
       "  'twin': False,\n",
       "  'footage': False,\n",
       "  'delivered': False,\n",
       "  'proceedings': False,\n",
       "  'obnoxious': False,\n",
       "  'ideas': False,\n",
       "  'fast': False,\n",
       "  'condition': False,\n",
       "  'frequently': False,\n",
       "  'wonderfully': False,\n",
       "  'nick': False,\n",
       "  'notes': False,\n",
       "  '\\x12': False,\n",
       "  'places': False,\n",
       "  'lord': True,\n",
       "  'warner': False,\n",
       "  'dull': False,\n",
       "  'mentioned': False,\n",
       "  'meets': False,\n",
       "  'notably': False,\n",
       "  'blonde': False,\n",
       "  'grown': False,\n",
       "  'issue': False,\n",
       "  'bar': False,\n",
       "  'spielberg': False,\n",
       "  'town': False,\n",
       "  'wood': False,\n",
       "  'pointless': False,\n",
       "  'universe': False,\n",
       "  'politics': False,\n",
       "  'wrote': False,\n",
       "  'successfully': False,\n",
       "  'succeed': False,\n",
       "  'sir': False,\n",
       "  'vampires': False,\n",
       "  'supposed': False,\n",
       "  'sudden': False,\n",
       "  'trailers': False,\n",
       "  'motion': False,\n",
       "  'seagal': False,\n",
       "  'references': False,\n",
       "  'african': False,\n",
       "  'christopher': False,\n",
       "  'beautifully': False,\n",
       "  'might': False,\n",
       "  'lost': False,\n",
       "  'jordan': False,\n",
       "  'files': False,\n",
       "  'incredibly': False,\n",
       "  'college': False,\n",
       "  'visual': False,\n",
       "  'existence': False,\n",
       "  'k': False,\n",
       "  'love': False,\n",
       "  'providing': False,\n",
       "  'awkward': False,\n",
       "  'gets': True,\n",
       "  'sonny': False,\n",
       "  'screening': False,\n",
       "  'act': False,\n",
       "  'boring': False,\n",
       "  'virtually': False,\n",
       "  'kinds': False,\n",
       "  'blair': False,\n",
       "  'jan': False,\n",
       "  'distracting': False,\n",
       "  'storytelling': False,\n",
       "  'willing': False,\n",
       "  'may': False,\n",
       "  'sides': False,\n",
       "  'exchange': False,\n",
       "  'guess': False,\n",
       "  'henstridge': False,\n",
       "  'moved': False,\n",
       "  'subplots': False,\n",
       "  'italian': True,\n",
       "  'dialogue': False,\n",
       "  'command': False,\n",
       "  'know': False,\n",
       "  'stops': False,\n",
       "  'house': False,\n",
       "  'grow': False,\n",
       "  'chan': False,\n",
       "  'likely': False,\n",
       "  'expect': False,\n",
       "  'originally': False,\n",
       "  'accomplished': False,\n",
       "  'rob': False,\n",
       "  'devil': False,\n",
       "  'costumes': False,\n",
       "  'hell': False,\n",
       "  'consider': False,\n",
       "  'leader': False,\n",
       "  'helen': False,\n",
       "  'rating': False,\n",
       "  'wins': False,\n",
       "  'prisoners': False,\n",
       "  'meant': False,\n",
       "  'likeable': False,\n",
       "  '!': True,\n",
       "  'fault': False,\n",
       "  'somehow': False,\n",
       "  'portrays': False,\n",
       "  'legendary': False,\n",
       "  'invisible': False,\n",
       "  'tony': False,\n",
       "  'cool': False,\n",
       "  'de': False,\n",
       "  'holds': False,\n",
       "  'shown': False,\n",
       "  'slowly': False,\n",
       "  'exact': False,\n",
       "  'surreal': False,\n",
       "  'gift': False,\n",
       "  'rain': False,\n",
       "  'cell': False,\n",
       "  'fred': False,\n",
       "  'professional': False,\n",
       "  'extremely': False,\n",
       "  'location': False,\n",
       "  'airplane': False,\n",
       "  'camp': False,\n",
       "  'playing': False,\n",
       "  'though': True,\n",
       "  '17': False,\n",
       "  'either': False,\n",
       "  'getting': False,\n",
       "  'snow': False,\n",
       "  'murphy': False,\n",
       "  'synopsis': False,\n",
       "  'roberts': False,\n",
       "  'cliches': False,\n",
       "  'loss': False,\n",
       "  'matt': False,\n",
       "  '[': False,\n",
       "  'count': False,\n",
       "  'terror': False,\n",
       "  'leading': False,\n",
       "  'eating': False,\n",
       "  'rick': False,\n",
       "  'species': False,\n",
       "  'hold': False,\n",
       "  'walking': False,\n",
       "  'turning': False,\n",
       "  'episode': False,\n",
       "  'losing': False,\n",
       "  'paxton': False,\n",
       "  'honest': False,\n",
       "  'criminal': False,\n",
       "  'keaton': False,\n",
       "  'johnny': False,\n",
       "  'south': False,\n",
       "  'away': False,\n",
       "  'inner': False,\n",
       "  'obi': False,\n",
       "  'warm': False,\n",
       "  'bit': False,\n",
       "  'fantastic': False,\n",
       "  'hate': False,\n",
       "  'ring': False,\n",
       "  'anybody': False,\n",
       "  'anna': False,\n",
       "  'could': False,\n",
       "  ...},\n",
       " 'neg')"
      ]
     },
     "execution_count": 69,
     "metadata": {},
     "output_type": "execute_result"
    }
   ],
   "source": [
    "featuresets[0]"
   ]
  },
  {
   "cell_type": "code",
   "execution_count": 70,
   "metadata": {},
   "outputs": [],
   "source": [
    "training_set = featuresets[:1500]\n",
    "testing_set = featuresets[1500:]"
   ]
  },
  {
   "cell_type": "code",
   "execution_count": 71,
   "metadata": {
    "collapsed": true
   },
   "outputs": [],
   "source": [
    "classifier = nltk.NaiveBayesClassifier.train(training_set)"
   ]
  },
  {
   "cell_type": "code",
   "execution_count": 72,
   "metadata": {},
   "outputs": [
    {
     "data": {
      "text/plain": [
       "0.806"
      ]
     },
     "execution_count": 72,
     "metadata": {},
     "output_type": "execute_result"
    }
   ],
   "source": [
    "nltk.classify.accuracy(classifier, testing_set)"
   ]
  },
  {
   "cell_type": "code",
   "execution_count": 105,
   "metadata": {},
   "outputs": [
    {
     "name": "stdout",
     "output_type": "stream",
     "text": [
      "Most Informative Features\n",
      "                  seagal = True              neg : pos    =     10.8 : 1.0\n",
      "             outstanding = True              pos : neg    =     10.5 : 1.0\n",
      "                   anger = True              pos : neg    =      9.7 : 1.0\n",
      "                   jolie = True              neg : pos    =      8.9 : 1.0\n",
      "                  prinze = True              neg : pos    =      8.9 : 1.0\n",
      "              henstridge = True              neg : pos    =      7.5 : 1.0\n",
      "                 garbage = True              neg : pos    =      7.3 : 1.0\n",
      "             wonderfully = True              pos : neg    =      7.1 : 1.0\n",
      "                 idiotic = True              neg : pos    =      6.5 : 1.0\n",
      "                   mulan = True              pos : neg    =      6.4 : 1.0\n",
      "                  poorly = True              neg : pos    =      6.3 : 1.0\n",
      "                   damon = True              pos : neg    =      6.2 : 1.0\n",
      "               innocence = True              pos : neg    =      6.0 : 1.0\n",
      "            breathtaking = True              pos : neg    =      6.0 : 1.0\n",
      "             beautifully = True              pos : neg    =      5.8 : 1.0\n"
     ]
    }
   ],
   "source": [
    "classifier.show_most_informative_features(15)"
   ]
  },
  {
   "cell_type": "code",
   "execution_count": 73,
   "metadata": {
    "collapsed": true
   },
   "outputs": [],
   "source": [
    "from nltk.classify.scikitlearn import SklearnClassifier\n",
    "\n",
    "from sklearn.svm import SVC"
   ]
  },
  {
   "cell_type": "code",
   "execution_count": 74,
   "metadata": {},
   "outputs": [
    {
     "data": {
      "text/plain": [
       "0.74"
      ]
     },
     "execution_count": 74,
     "metadata": {},
     "output_type": "execute_result"
    }
   ],
   "source": [
    "SVC_classifier = SklearnClassifier(SVC())\n",
    "SVC_classifier.train(training_set)\n",
    "nltk.classify.accuracy(SVC_classifier, testing_set)"
   ]
  },
  {
   "cell_type": "code",
   "execution_count": 75,
   "metadata": {
    "collapsed": true
   },
   "outputs": [],
   "source": [
    "import pickle"
   ]
  },
  {
   "cell_type": "code",
   "execution_count": 76,
   "metadata": {
    "collapsed": true
   },
   "outputs": [],
   "source": [
    "save_classifier = open(\"naivebayes.pickle\", \"wb\")\n",
    "pickle.dump(classifier, save_classifier)\n",
    "save_classifier.close()"
   ]
  },
  {
   "cell_type": "code",
   "execution_count": 77,
   "metadata": {
    "collapsed": true
   },
   "outputs": [],
   "source": [
    "classifier_new = open(\"naivebayes.pickle\", \"rb\")\n",
    "classifier = pickle.load(classifier_new)\n",
    "classifier_new.close()"
   ]
  },
  {
   "cell_type": "code",
   "execution_count": 78,
   "metadata": {
    "collapsed": true
   },
   "outputs": [],
   "source": [
    "train_set = (\"The sky is blue.\", \"The sun is bright\")"
   ]
  },
  {
   "cell_type": "code",
   "execution_count": 79,
   "metadata": {
    "collapsed": true
   },
   "outputs": [],
   "source": [
    "from sklearn.feature_extraction.text import CountVectorizer"
   ]
  },
  {
   "cell_type": "code",
   "execution_count": 80,
   "metadata": {
    "collapsed": true
   },
   "outputs": [],
   "source": [
    "count_vec = CountVectorizer()"
   ]
  },
  {
   "cell_type": "code",
   "execution_count": 81,
   "metadata": {},
   "outputs": [
    {
     "data": {
      "text/plain": [
       "<2x6 sparse matrix of type '<class 'numpy.int64'>'\n",
       "\twith 8 stored elements in Compressed Sparse Row format>"
      ]
     },
     "execution_count": 81,
     "metadata": {},
     "output_type": "execute_result"
    }
   ],
   "source": [
    "count_vec.fit_transform(train_set)"
   ]
  },
  {
   "cell_type": "code",
   "execution_count": 82,
   "metadata": {},
   "outputs": [
    {
     "data": {
      "text/plain": [
       "['blue', 'bright', 'is', 'sky', 'sun', 'the']"
      ]
     },
     "execution_count": 82,
     "metadata": {},
     "output_type": "execute_result"
    }
   ],
   "source": [
    "count_vec.get_feature_names()"
   ]
  },
  {
   "cell_type": "code",
   "execution_count": 83,
   "metadata": {
    "collapsed": true
   },
   "outputs": [],
   "source": [
    "test_sen = (\"The sky is bright and blue\", \"Bright day\")"
   ]
  },
  {
   "cell_type": "code",
   "execution_count": 84,
   "metadata": {
    "collapsed": true
   },
   "outputs": [],
   "source": [
    "freq_term = count_vec.transform(test_sen)"
   ]
  },
  {
   "cell_type": "code",
   "execution_count": 85,
   "metadata": {},
   "outputs": [
    {
     "data": {
      "text/plain": [
       "matrix([[1, 1, 1, 1, 0, 1],\n",
       "        [0, 1, 0, 0, 0, 0]], dtype=int64)"
      ]
     },
     "execution_count": 85,
     "metadata": {},
     "output_type": "execute_result"
    }
   ],
   "source": [
    "freq_term.todense()"
   ]
  },
  {
   "cell_type": "code",
   "execution_count": 86,
   "metadata": {
    "collapsed": true
   },
   "outputs": [],
   "source": [
    "reviews = []\n",
    "categories = []\n",
    "for (rev, category) in documents:\n",
    "    reviews.append(rev)\n",
    "    categories.append(category)"
   ]
  },
  {
   "cell_type": "code",
   "execution_count": 87,
   "metadata": {
    "collapsed": true
   },
   "outputs": [],
   "source": [
    "from nltk import pos_tag\n",
    "from nltk.stem import WordNetLemmatizer\n",
    "from nltk.corpus import wordnet"
   ]
  },
  {
   "cell_type": "code",
   "execution_count": 88,
   "metadata": {
    "collapsed": true
   },
   "outputs": [],
   "source": [
    "lemmatizer = WordNetLemmatizer()"
   ]
  },
  {
   "cell_type": "code",
   "execution_count": 89,
   "metadata": {
    "collapsed": true
   },
   "outputs": [],
   "source": [
    "def get_simple_pos(tag):\n",
    "    \n",
    "    if tag.startswith('J'):\n",
    "        return wordnet.ADJ\n",
    "    elif tag.startswith('V'):\n",
    "        return wordnet.VERB\n",
    "    elif tag.startswith('N'):\n",
    "        return wordnet.NOUN\n",
    "    elif tag.startswith('R'):\n",
    "        return wordnet.ADV\n",
    "    else:\n",
    "        return wordnet.NOUN"
   ]
  },
  {
   "cell_type": "code",
   "execution_count": 90,
   "metadata": {
    "collapsed": true
   },
   "outputs": [],
   "source": [
    "def clean_data(data):\n",
    "    meaningful_words = []\n",
    "    for w in data:\n",
    "        if w.lower() not in stops:\n",
    "            pos = pos_tag([w])\n",
    "           # print(pos)\n",
    "         #  if get_simple_tag(pos)\n",
    "            n_word = lemmatizer.lemmatize(w, pos = get_simple_pos(pos[0][1]))\n",
    "            meaningful_words.append(n_word.lower())\n",
    "    return (\" \".join(meaningful_words))"
   ]
  },
  {
   "cell_type": "code",
   "execution_count": 91,
   "metadata": {
    "collapsed": true
   },
   "outputs": [],
   "source": [
    "clean_review = clean_data(reviews[0])"
   ]
  },
  {
   "cell_type": "code",
   "execution_count": 92,
   "metadata": {},
   "outputs": [
    {
     "data": {
      "text/plain": [
       "'tomb raider fun excite challenge give unprecedented popularity especially among teenage boy video game sport uber buff pistol packin babe raid well tomb believe three thing ! lara croft : tomb raider big screen variant say video game feature pumped angelina jolie oscar winner girl interrupt less title role however none thing fun excite challenge see long stay seat suffer bitter bitter end ; wife opt barnes & noble 45 minute mark direct simon west subtlety brought con air tomb raider empty head big budget bore story borrows unintelligently mother turkey hudson hawk hokum planetary alignment sacred stone brought together well heck care make super mario bros bob hoskins ill advise career move look like rocco brother classic italian neo realism go limb say suspect actually character development video game movie proper jolie defender / video game nut jump say movie character development kick serious butt bum since m croft hail england green pleasant lip breast biceps inflate max lara croft posturing jolie hard time simply stand still without try look tough ok let forget challenge tomb raider least fun excite butt kick heroine also encompass sophistication say james bond wit indiana jones humor found anywhere tomb raider even though try hard time time even mummy return take seriously villain noticeably lack special effect ridiculously overblown unnecessarily complicate script non existent liven thing perhaps jolie live father jon voight put minute lara dead father lord croft ; talk stretch one thing expect film jolie affect slightly well english accent pa although suspect thin look moustache force wear get way unsuccessful entirely anything lara croft : tomb raider make want check video game figure exactly fuss'"
      ]
     },
     "execution_count": 92,
     "metadata": {},
     "output_type": "execute_result"
    }
   ],
   "source": [
    "clean_review"
   ]
  },
  {
   "cell_type": "code",
   "execution_count": null,
   "metadata": {},
   "outputs": [],
   "source": [
    "clean_reviews = [clean_data(review) for review in reviews]"
   ]
  },
  {
   "cell_type": "code",
   "execution_count": null,
   "metadata": {},
   "outputs": [],
   "source": [
    "from sklearn.cross_validation import train_test_split"
   ]
  },
  {
   "cell_type": "code",
   "execution_count": null,
   "metadata": {
    "collapsed": true
   },
   "outputs": [],
   "source": [
    "x_train, x_test, y_train, y_test = train_test_split(clean_reviews, categories, test_size = 0.2)"
   ]
  },
  {
   "cell_type": "code",
   "execution_count": null,
   "metadata": {
    "collapsed": true
   },
   "outputs": [],
   "source": [
    "count_vect = CountVectorizer(analyzer = \"word\", max_features = 4500)"
   ]
  },
  {
   "cell_type": "code",
   "execution_count": null,
   "metadata": {
    "collapsed": true
   },
   "outputs": [],
   "source": [
    "train_transformed = count_vect.fit_transform(x_train)"
   ]
  },
  {
   "cell_type": "code",
   "execution_count": null,
   "metadata": {},
   "outputs": [],
   "source": [
    "train_transformed.shape"
   ]
  },
  {
   "cell_type": "code",
   "execution_count": null,
   "metadata": {
    "collapsed": true
   },
   "outputs": [],
   "source": [
    "test_transformed = count_vect.transform(x_test)"
   ]
  },
  {
   "cell_type": "code",
   "execution_count": null,
   "metadata": {
    "collapsed": true
   },
   "outputs": [],
   "source": [
    "from sklearn.naive_bayes import MultinomialNB\n"
   ]
  },
  {
   "cell_type": "code",
   "execution_count": null,
   "metadata": {
    "collapsed": true
   },
   "outputs": [],
   "source": [
    "clf = MultinomialNB()\n",
    "clf.fit(train_transformed, y_train)\n",
    "clf.score(test_transformed, y_test)"
   ]
  },
  {
   "cell_type": "code",
   "execution_count": null,
   "metadata": {
    "collapsed": true
   },
   "outputs": [],
   "source": []
  }
 ],
 "metadata": {
  "anaconda-cloud": {},
  "kernelspec": {
   "display_name": "Python 3",
   "language": "python",
   "name": "python3"
  },
  "language_info": {
   "codemirror_mode": {
    "name": "ipython",
    "version": 3
   },
   "file_extension": ".py",
   "mimetype": "text/x-python",
   "name": "python",
   "nbconvert_exporter": "python",
   "pygments_lexer": "ipython3",
   "version": "3.5.2"
  }
 },
 "nbformat": 4,
 "nbformat_minor": 1
}
